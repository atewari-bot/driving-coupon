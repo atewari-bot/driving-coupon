{
 "cells": [
  {
   "cell_type": "markdown",
   "metadata": {
    "id": "CcUT6Fon_qRE"
   },
   "source": [
    "### Required Assignment 5.1: Will the Customer Accept the Coupon?\n",
    "\n",
    "**Context**\n",
    "\n",
    "Imagine driving through town and a coupon is delivered to your cell phone for a restaurant near where you are driving. Would you accept that coupon and take a short detour to the restaurant? Would you accept the coupon but use it on a subsequent trip? Would you ignore the coupon entirely? What if the coupon was for a bar instead of a restaurant? What about a coffee house? Would you accept a bar coupon with a minor passenger in the car? What about if it was just you and your partner in the car? Would weather impact the rate of acceptance? What about the time of day?\n",
    "\n",
    "Obviously, proximity to the business is a factor on whether the coupon is delivered to the driver or not, but what are the factors that determine whether a driver accepts the coupon once it is delivered to them? How would you determine whether a driver is likely to accept a coupon?\n",
    "\n",
    "**Overview**\n",
    "\n",
    "The goal of this project is to use what you know about visualizations and probability distributions to distinguish between customers who accepted a driving coupon versus those that did not.\n",
    "\n",
    "**Data**\n",
    "\n",
    "This data comes to us from the UCI Machine Learning repository and was collected via a survey on Amazon Mechanical Turk. The survey describes different driving scenarios including the destination, current time, weather, passenger, etc., and then ask the person whether he will accept the coupon if he is the driver. Answers that the user will drive there ‘right away’ or ‘later before the coupon expires’ are labeled as ‘Y = 1’ and answers ‘no, I do not want the coupon’ are labeled as ‘Y = 0’.  There are five different types of coupons -- less expensive restaurants (under \\$20), coffee houses, carry out & take away, bar, and more expensive restaurants (\\$20 - $50)."
   ]
  },
  {
   "cell_type": "markdown",
   "metadata": {
    "id": "1wORvMBJ_qRF"
   },
   "source": [
    "**Deliverables**\n",
    "\n",
    "Your final product should be a brief report that highlights the differences between customers who did and did not accept the coupons.  To explore the data you will utilize your knowledge of plotting, statistical summaries, and visualization using Python. You will publish your findings in a public facing github repository as your first portfolio piece.\n",
    "\n",
    "\n",
    "\n"
   ]
  },
  {
   "cell_type": "markdown",
   "metadata": {
    "id": "pG6_Ym6q_qRG"
   },
   "source": [
    "### Data Description\n",
    "Keep in mind that these values mentioned below are average values.\n",
    "\n",
    "The attributes of this data set include:\n",
    "1. User attributes\n",
    "    -  Gender: male, female\n",
    "    -  Age: below 21, 21 to 25, 26 to 30, etc.\n",
    "    -  Marital Status: single, married partner, unmarried partner, or widowed\n",
    "    -  Number of children: 0, 1, or more than 1\n",
    "    -  Education: high school, bachelors degree, associates degree, or graduate degree\n",
    "    -  Occupation: architecture & engineering, business & financial, etc.\n",
    "    -  Annual income: less than \\\\$12500, \\\\$12500 - \\\\$24999, \\\\$25000 - \\\\$37499, etc.\n",
    "    -  Number of times that he/she goes to a bar: 0, less than 1, 1 to 3, 4 to 8 or greater than 8\n",
    "    -  Number of times that he/she buys takeaway food: 0, less than 1, 1 to 3, 4 to 8 or greater\n",
    "    than 8\n",
    "    -  Number of times that he/she goes to a coffee house: 0, less than 1, 1 to 3, 4 to 8 or\n",
    "    greater than 8\n",
    "    -  Number of times that he/she eats at a restaurant with average expense less than \\\\$20 per\n",
    "    person: 0, less than 1, 1 to 3, 4 to 8 or greater than 8\n",
    "    -  Number of times that he/she goes to a bar: 0, less than 1, 1 to 3, 4 to 8 or greater than 8\n",
    "    \n",
    "\n",
    "2. Contextual attributes\n",
    "    - Driving destination: home, work, or no urgent destination\n",
    "    - Location of user, coupon and destination: we provide a map to show the geographical\n",
    "    location of the user, destination, and the venue, and we mark the distance between each\n",
    "    two places with time of driving. The user can see whether the venue is in the same\n",
    "    direction as the destination.\n",
    "    - Weather: sunny, rainy, or snowy\n",
    "    - Temperature: 30F, 55F, or 80F\n",
    "    - Time: 10AM, 2PM, or 6PM\n",
    "    - Passenger: alone, partner, kid(s), or friend(s)\n",
    "\n",
    "\n",
    "3. Coupon attributes\n",
    "    - time before it expires: 2 hours or one day"
   ]
  },
  {
   "cell_type": "code",
   "execution_count": 1,
   "metadata": {
    "id": "dzNoP3o__qRG"
   },
   "outputs": [],
   "source": [
    "# import required python libraries\n",
    "import matplotlib.pyplot as plt\n",
    "import seaborn as sns\n",
    "import plotly.express as px\n",
    "import pandas as pd\n",
    "import numpy as np"
   ]
  },
  {
   "cell_type": "markdown",
   "metadata": {
    "id": "Ct8pI1uE_qRG"
   },
   "source": [
    "### Problems\n",
    "\n",
    "Use the prompts below to get started with your data analysis.  \n",
    "\n",
    "1. Read in the `coupons.csv` file.\n",
    "\n",
    "\n"
   ]
  },
  {
   "cell_type": "code",
   "execution_count": 2,
   "metadata": {
    "id": "X0vbffYg_qRH"
   },
   "outputs": [],
   "source": [
    "# Read the dataset from .csv file\n",
    "data = pd.read_csv('data/coupons.csv')"
   ]
  },
  {
   "cell_type": "code",
   "execution_count": 3,
   "metadata": {
    "id": "TXofQ_DF_qRH",
    "outputId": "2fc96a2c-1112-4b54-f24f-dbb9bc88abfb"
   },
   "outputs": [
    {
     "data": {
      "text/html": [
       "<div>\n",
       "<style scoped>\n",
       "    .dataframe tbody tr th:only-of-type {\n",
       "        vertical-align: middle;\n",
       "    }\n",
       "\n",
       "    .dataframe tbody tr th {\n",
       "        vertical-align: top;\n",
       "    }\n",
       "\n",
       "    .dataframe thead th {\n",
       "        text-align: right;\n",
       "    }\n",
       "</style>\n",
       "<table border=\"1\" class=\"dataframe\">\n",
       "  <thead>\n",
       "    <tr style=\"text-align: right;\">\n",
       "      <th></th>\n",
       "      <th>destination</th>\n",
       "      <th>passanger</th>\n",
       "      <th>weather</th>\n",
       "      <th>temperature</th>\n",
       "      <th>time</th>\n",
       "      <th>coupon</th>\n",
       "      <th>expiration</th>\n",
       "      <th>gender</th>\n",
       "      <th>age</th>\n",
       "      <th>maritalStatus</th>\n",
       "      <th>...</th>\n",
       "      <th>CoffeeHouse</th>\n",
       "      <th>CarryAway</th>\n",
       "      <th>RestaurantLessThan20</th>\n",
       "      <th>Restaurant20To50</th>\n",
       "      <th>toCoupon_GEQ5min</th>\n",
       "      <th>toCoupon_GEQ15min</th>\n",
       "      <th>toCoupon_GEQ25min</th>\n",
       "      <th>direction_same</th>\n",
       "      <th>direction_opp</th>\n",
       "      <th>Y</th>\n",
       "    </tr>\n",
       "  </thead>\n",
       "  <tbody>\n",
       "    <tr>\n",
       "      <th>0</th>\n",
       "      <td>No Urgent Place</td>\n",
       "      <td>Alone</td>\n",
       "      <td>Sunny</td>\n",
       "      <td>55</td>\n",
       "      <td>2PM</td>\n",
       "      <td>Restaurant(&lt;20)</td>\n",
       "      <td>1d</td>\n",
       "      <td>Female</td>\n",
       "      <td>21</td>\n",
       "      <td>Unmarried partner</td>\n",
       "      <td>...</td>\n",
       "      <td>never</td>\n",
       "      <td>NaN</td>\n",
       "      <td>4~8</td>\n",
       "      <td>1~3</td>\n",
       "      <td>1</td>\n",
       "      <td>0</td>\n",
       "      <td>0</td>\n",
       "      <td>0</td>\n",
       "      <td>1</td>\n",
       "      <td>1</td>\n",
       "    </tr>\n",
       "    <tr>\n",
       "      <th>1</th>\n",
       "      <td>No Urgent Place</td>\n",
       "      <td>Friend(s)</td>\n",
       "      <td>Sunny</td>\n",
       "      <td>80</td>\n",
       "      <td>10AM</td>\n",
       "      <td>Coffee House</td>\n",
       "      <td>2h</td>\n",
       "      <td>Female</td>\n",
       "      <td>21</td>\n",
       "      <td>Unmarried partner</td>\n",
       "      <td>...</td>\n",
       "      <td>never</td>\n",
       "      <td>NaN</td>\n",
       "      <td>4~8</td>\n",
       "      <td>1~3</td>\n",
       "      <td>1</td>\n",
       "      <td>0</td>\n",
       "      <td>0</td>\n",
       "      <td>0</td>\n",
       "      <td>1</td>\n",
       "      <td>0</td>\n",
       "    </tr>\n",
       "    <tr>\n",
       "      <th>2</th>\n",
       "      <td>No Urgent Place</td>\n",
       "      <td>Friend(s)</td>\n",
       "      <td>Sunny</td>\n",
       "      <td>80</td>\n",
       "      <td>10AM</td>\n",
       "      <td>Carry out &amp; Take away</td>\n",
       "      <td>2h</td>\n",
       "      <td>Female</td>\n",
       "      <td>21</td>\n",
       "      <td>Unmarried partner</td>\n",
       "      <td>...</td>\n",
       "      <td>never</td>\n",
       "      <td>NaN</td>\n",
       "      <td>4~8</td>\n",
       "      <td>1~3</td>\n",
       "      <td>1</td>\n",
       "      <td>1</td>\n",
       "      <td>0</td>\n",
       "      <td>0</td>\n",
       "      <td>1</td>\n",
       "      <td>1</td>\n",
       "    </tr>\n",
       "    <tr>\n",
       "      <th>3</th>\n",
       "      <td>No Urgent Place</td>\n",
       "      <td>Friend(s)</td>\n",
       "      <td>Sunny</td>\n",
       "      <td>80</td>\n",
       "      <td>2PM</td>\n",
       "      <td>Coffee House</td>\n",
       "      <td>2h</td>\n",
       "      <td>Female</td>\n",
       "      <td>21</td>\n",
       "      <td>Unmarried partner</td>\n",
       "      <td>...</td>\n",
       "      <td>never</td>\n",
       "      <td>NaN</td>\n",
       "      <td>4~8</td>\n",
       "      <td>1~3</td>\n",
       "      <td>1</td>\n",
       "      <td>1</td>\n",
       "      <td>0</td>\n",
       "      <td>0</td>\n",
       "      <td>1</td>\n",
       "      <td>0</td>\n",
       "    </tr>\n",
       "    <tr>\n",
       "      <th>4</th>\n",
       "      <td>No Urgent Place</td>\n",
       "      <td>Friend(s)</td>\n",
       "      <td>Sunny</td>\n",
       "      <td>80</td>\n",
       "      <td>2PM</td>\n",
       "      <td>Coffee House</td>\n",
       "      <td>1d</td>\n",
       "      <td>Female</td>\n",
       "      <td>21</td>\n",
       "      <td>Unmarried partner</td>\n",
       "      <td>...</td>\n",
       "      <td>never</td>\n",
       "      <td>NaN</td>\n",
       "      <td>4~8</td>\n",
       "      <td>1~3</td>\n",
       "      <td>1</td>\n",
       "      <td>1</td>\n",
       "      <td>0</td>\n",
       "      <td>0</td>\n",
       "      <td>1</td>\n",
       "      <td>0</td>\n",
       "    </tr>\n",
       "  </tbody>\n",
       "</table>\n",
       "<p>5 rows × 26 columns</p>\n",
       "</div>"
      ],
      "text/plain": [
       "       destination  passanger weather  temperature  time  \\\n",
       "0  No Urgent Place      Alone   Sunny           55   2PM   \n",
       "1  No Urgent Place  Friend(s)   Sunny           80  10AM   \n",
       "2  No Urgent Place  Friend(s)   Sunny           80  10AM   \n",
       "3  No Urgent Place  Friend(s)   Sunny           80   2PM   \n",
       "4  No Urgent Place  Friend(s)   Sunny           80   2PM   \n",
       "\n",
       "                  coupon expiration  gender age      maritalStatus  ...  \\\n",
       "0        Restaurant(<20)         1d  Female  21  Unmarried partner  ...   \n",
       "1           Coffee House         2h  Female  21  Unmarried partner  ...   \n",
       "2  Carry out & Take away         2h  Female  21  Unmarried partner  ...   \n",
       "3           Coffee House         2h  Female  21  Unmarried partner  ...   \n",
       "4           Coffee House         1d  Female  21  Unmarried partner  ...   \n",
       "\n",
       "   CoffeeHouse CarryAway RestaurantLessThan20 Restaurant20To50  \\\n",
       "0        never       NaN                  4~8              1~3   \n",
       "1        never       NaN                  4~8              1~3   \n",
       "2        never       NaN                  4~8              1~3   \n",
       "3        never       NaN                  4~8              1~3   \n",
       "4        never       NaN                  4~8              1~3   \n",
       "\n",
       "  toCoupon_GEQ5min toCoupon_GEQ15min toCoupon_GEQ25min direction_same  \\\n",
       "0                1                 0                 0              0   \n",
       "1                1                 0                 0              0   \n",
       "2                1                 1                 0              0   \n",
       "3                1                 1                 0              0   \n",
       "4                1                 1                 0              0   \n",
       "\n",
       "  direction_opp  Y  \n",
       "0             1  1  \n",
       "1             1  0  \n",
       "2             1  1  \n",
       "3             1  0  \n",
       "4             1  0  \n",
       "\n",
       "[5 rows x 26 columns]"
      ]
     },
     "execution_count": 3,
     "metadata": {},
     "output_type": "execute_result"
    }
   ],
   "source": [
    "data.head()"
   ]
  },
  {
   "cell_type": "code",
   "execution_count": 4,
   "metadata": {},
   "outputs": [],
   "source": [
    "# Util functions\n",
    "def getColumnValueCounts(col):\n",
    "    # Check value count for each unique value for column \n",
    "    return data.groupby(col)[col].value_counts()"
   ]
  },
  {
   "cell_type": "markdown",
   "metadata": {
    "id": "GcDs78ZH_qRH"
   },
   "source": [
    "2. Investigate the dataset for missing or problematic data."
   ]
  },
  {
   "cell_type": "markdown",
   "metadata": {},
   "source": [
    "<b>2.1 Check the shape of dataframe.</b>"
   ]
  },
  {
   "cell_type": "code",
   "execution_count": 5,
   "metadata": {},
   "outputs": [
    {
     "data": {
      "text/plain": [
       "(12684, 26)"
      ]
     },
     "execution_count": 5,
     "metadata": {},
     "output_type": "execute_result"
    }
   ],
   "source": [
    "# Check number of rows and columsn\n",
    "data.shape"
   ]
  },
  {
   "cell_type": "markdown",
   "metadata": {},
   "source": [
    "<b>2.2 Check the missing values for each column.</b>"
   ]
  },
  {
   "cell_type": "code",
   "execution_count": 6,
   "metadata": {
    "id": "6CwL6oWj_qRH"
   },
   "outputs": [
    {
     "data": {
      "text/plain": [
       "destination                 0\n",
       "passanger                   0\n",
       "weather                     0\n",
       "temperature                 0\n",
       "time                        0\n",
       "coupon                      0\n",
       "expiration                  0\n",
       "gender                      0\n",
       "age                         0\n",
       "maritalStatus               0\n",
       "has_children                0\n",
       "education                   0\n",
       "occupation                  0\n",
       "income                      0\n",
       "car                     12576\n",
       "Bar                       107\n",
       "CoffeeHouse               217\n",
       "CarryAway                 151\n",
       "RestaurantLessThan20      130\n",
       "Restaurant20To50          189\n",
       "toCoupon_GEQ5min            0\n",
       "toCoupon_GEQ15min           0\n",
       "toCoupon_GEQ25min           0\n",
       "direction_same              0\n",
       "direction_opp               0\n",
       "Y                           0\n",
       "dtype: int64"
      ]
     },
     "execution_count": 6,
     "metadata": {},
     "output_type": "execute_result"
    }
   ],
   "source": [
    "# Check missing value counts for each column\n",
    "missing_values_all = data.isna().sum()\n",
    "missing_values_all"
   ]
  },
  {
   "cell_type": "markdown",
   "metadata": {},
   "source": [
    "<b>2.3 Find percentage of missing values for each column which have missing values.</b>"
   ]
  },
  {
   "cell_type": "code",
   "execution_count": 7,
   "metadata": {},
   "outputs": [
    {
     "data": {
      "text/plain": [
       "car                     99.148534\n",
       "Bar                      0.843582\n",
       "CoffeeHouse              1.710817\n",
       "CarryAway                1.190476\n",
       "RestaurantLessThan20     1.024913\n",
       "Restaurant20To50         1.490066\n",
       "dtype: float64"
      ]
     },
     "execution_count": 7,
     "metadata": {},
     "output_type": "execute_result"
    }
   ],
   "source": [
    "# Check percentage of missing values for the columns which have more non-zero missing values\n",
    "def find_missing_values_percentage():\n",
    "    missing_values = missing_values_all[missing_values_all > 0]\n",
    "    missing_values_percentage = (missing_values / data.shape[0]) * 100\n",
    "    return missing_values_percentage\n",
    "\n",
    "find_missing_values_percentage()"
   ]
  },
  {
   "cell_type": "markdown",
   "metadata": {},
   "source": [
    "<h><b>Summary: Null Value Columns</b></h>\n",
    "    <ol>\n",
    "      <li><b>Column<i>\"car\"</i>:</b> More than 99% of values are missing.</li>\n",
    "      <li><b>Column<i>\"Bar\"</i>:</b> Less than 1% of values are missing.</li>\n",
    "      <li><b>Columns<i>\"CoffeeHouse, CarryAway, RestaurantLessThan20, Restaurant20To50\"</i>:</b> Missing values in the range of 1% to 2%.</li>\n",
    "    </ol>"
   ]
  },
  {
   "cell_type": "markdown",
   "metadata": {
    "id": "bSdVSpYB_qRH"
   },
   "source": [
    "3. Decide what to do about your missing data -- drop, replace, other..."
   ]
  },
  {
   "cell_type": "markdown",
   "metadata": {},
   "source": [
    "<b>3.1 <i>Car</i> column have more than 99% of values missing. The type of vehicle should not affect coupon acceptance. We could drop the car column or fill it with a value 'car'. I would drop the column as this column is agnostic of coupon acceptance with 99% missing values.</b>"
   ]
  },
  {
   "cell_type": "code",
   "execution_count": 8,
   "metadata": {
    "id": "tyvoAC5F_qRI"
   },
   "outputs": [
    {
     "data": {
      "text/plain": [
       "array([nan, 'Scooter and motorcycle', 'crossover', 'Mazda5',\n",
       "       'do not drive', 'Car that is too old to install Onstar :D'],\n",
       "      dtype=object)"
      ]
     },
     "execution_count": 8,
     "metadata": {},
     "output_type": "execute_result"
    }
   ],
   "source": [
    "# Check unique values for car column\n",
    "data['car'].unique()"
   ]
  },
  {
   "cell_type": "code",
   "execution_count": 9,
   "metadata": {},
   "outputs": [
    {
     "data": {
      "text/plain": [
       "(12684, 25)"
      ]
     },
     "execution_count": 9,
     "metadata": {},
     "output_type": "execute_result"
    }
   ],
   "source": [
    "# Drop car column as more than 99% values are null\n",
    "data.drop('car', axis=1, inplace=True)\n",
    "data.shape"
   ]
  },
  {
   "cell_type": "markdown",
   "metadata": {},
   "source": [
    "<b>3.2 <i>Bar</i> column is categorical column and have ~0.84% of values missing. We could replace missing values with mode.</b>"
   ]
  },
  {
   "cell_type": "code",
   "execution_count": 10,
   "metadata": {},
   "outputs": [
    {
     "data": {
      "text/plain": [
       "array(['never', 'less1', '1~3', 'gt8', nan, '4~8'], dtype=object)"
      ]
     },
     "execution_count": 10,
     "metadata": {},
     "output_type": "execute_result"
    }
   ],
   "source": [
    "# Check unique values for column \"Bar\"\n",
    "data['Bar'].unique()"
   ]
  },
  {
   "cell_type": "code",
   "execution_count": 11,
   "metadata": {},
   "outputs": [
    {
     "data": {
      "text/plain": [
       "Bar\n",
       "1~3      2473\n",
       "4~8      1076\n",
       "gt8       349\n",
       "less1    3482\n",
       "never    5197\n",
       "Name: count, dtype: int64"
      ]
     },
     "execution_count": 11,
     "metadata": {},
     "output_type": "execute_result"
    }
   ],
   "source": [
    "# Check value count for each unique value for column \"Bar\"\n",
    "getColumnValueCounts('Bar')"
   ]
  },
  {
   "cell_type": "code",
   "execution_count": 12,
   "metadata": {},
   "outputs": [
    {
     "data": {
      "text/plain": [
       "np.int64(0)"
      ]
     },
     "execution_count": 12,
     "metadata": {},
     "output_type": "execute_result"
    }
   ],
   "source": [
    "# Replace null value for column \"Bar\" with mode of the column\n",
    "data['Bar'] = data['Bar'].fillna(data['Bar'].mode()[0])\n",
    "data['Bar'].isna().sum()"
   ]
  },
  {
   "cell_type": "code",
   "execution_count": 13,
   "metadata": {},
   "outputs": [
    {
     "data": {
      "text/plain": [
       "Bar\n",
       "1~3      2473\n",
       "4~8      1076\n",
       "gt8       349\n",
       "less1    3482\n",
       "never    5304\n",
       "Name: count, dtype: int64"
      ]
     },
     "execution_count": 13,
     "metadata": {},
     "output_type": "execute_result"
    }
   ],
   "source": [
    "# Unique value counts for Bar column after handling missing values\n",
    "getColumnValueCounts('Bar')"
   ]
  },
  {
   "cell_type": "markdown",
   "metadata": {},
   "source": [
    "<b>3.3 <i>CoffeHouse</i> column is categorical column and have ~1.71% of values missing. We would replace missing values with random column values as mode of multiple values are high.</b>"
   ]
  },
  {
   "cell_type": "code",
   "execution_count": 14,
   "metadata": {},
   "outputs": [
    {
     "data": {
      "text/plain": [
       "0    never\n",
       "1    less1\n",
       "2      4~8\n",
       "3      1~3\n",
       "4      gt8\n",
       "5      NaN\n",
       "dtype: object"
      ]
     },
     "execution_count": 14,
     "metadata": {},
     "output_type": "execute_result"
    }
   ],
   "source": [
    "# check unique values for column \"CoffeeHouse\"\n",
    "pd.Series(data['CoffeeHouse'].unique())"
   ]
  },
  {
   "cell_type": "code",
   "execution_count": 15,
   "metadata": {},
   "outputs": [
    {
     "data": {
      "text/plain": [
       "CoffeeHouse\n",
       "1~3      3225\n",
       "4~8      1784\n",
       "gt8      1111\n",
       "less1    3385\n",
       "never    2962\n",
       "Name: count, dtype: int64"
      ]
     },
     "execution_count": 15,
     "metadata": {},
     "output_type": "execute_result"
    }
   ],
   "source": [
    "# Check value count for each unique value for column \"CoffeeHouse\"\n",
    "getColumnValueCounts('CoffeeHouse')"
   ]
  },
  {
   "cell_type": "code",
   "execution_count": 16,
   "metadata": {},
   "outputs": [
    {
     "data": {
      "text/plain": [
       "np.int64(0)"
      ]
     },
     "execution_count": 16,
     "metadata": {},
     "output_type": "execute_result"
    }
   ],
   "source": [
    "# Fill missing values with mode of the column\n",
    "data['CoffeeHouse'] = data['CoffeeHouse'].fillna(data['CoffeeHouse'].mode()[0])\n",
    "data['CoffeeHouse'].isna().sum()"
   ]
  },
  {
   "cell_type": "code",
   "execution_count": 17,
   "metadata": {},
   "outputs": [
    {
     "data": {
      "text/plain": [
       "CoffeeHouse\n",
       "1~3      3225\n",
       "4~8      1784\n",
       "gt8      1111\n",
       "less1    3602\n",
       "never    2962\n",
       "Name: count, dtype: int64"
      ]
     },
     "execution_count": 17,
     "metadata": {},
     "output_type": "execute_result"
    }
   ],
   "source": [
    "# Unique value counts for CoffeeHouse column after handling missing values\n",
    "getColumnValueCounts('CoffeeHouse')"
   ]
  },
  {
   "cell_type": "markdown",
   "metadata": {},
   "source": [
    "<b>3.4 <i>CarryAway</i> column is categorical column and have ~1.19% of values missing. We would replace missing values with random column values as mode of multiple values are high.</b>"
   ]
  },
  {
   "cell_type": "code",
   "execution_count": 18,
   "metadata": {},
   "outputs": [
    {
     "data": {
      "text/plain": [
       "array([nan, '4~8', '1~3', 'gt8', 'less1', 'never'], dtype=object)"
      ]
     },
     "execution_count": 18,
     "metadata": {},
     "output_type": "execute_result"
    }
   ],
   "source": [
    "# Check unique values of CarryAway column\n",
    "data['CarryAway'].unique()"
   ]
  },
  {
   "cell_type": "code",
   "execution_count": 19,
   "metadata": {},
   "outputs": [
    {
     "data": {
      "text/plain": [
       "CarryAway\n",
       "1~3      4672\n",
       "4~8      4258\n",
       "gt8      1594\n",
       "less1    1856\n",
       "never     153\n",
       "Name: count, dtype: int64"
      ]
     },
     "execution_count": 19,
     "metadata": {},
     "output_type": "execute_result"
    }
   ],
   "source": [
    "# Check frquency of each unique values\n",
    "getColumnValueCounts('CarryAway')"
   ]
  },
  {
   "cell_type": "code",
   "execution_count": 20,
   "metadata": {},
   "outputs": [
    {
     "data": {
      "text/plain": [
       "np.int64(0)"
      ]
     },
     "execution_count": 20,
     "metadata": {},
     "output_type": "execute_result"
    }
   ],
   "source": [
    "# Fill missing values with mode of the column\n",
    "data['CarryAway'] = data['CarryAway'].fillna(data['CarryAway'].mode()[0])\n",
    "data['CarryAway'].isna().sum()"
   ]
  },
  {
   "cell_type": "code",
   "execution_count": 21,
   "metadata": {},
   "outputs": [
    {
     "data": {
      "text/plain": [
       "CarryAway\n",
       "1~3      4823\n",
       "4~8      4258\n",
       "gt8      1594\n",
       "less1    1856\n",
       "never     153\n",
       "Name: count, dtype: int64"
      ]
     },
     "execution_count": 21,
     "metadata": {},
     "output_type": "execute_result"
    }
   ],
   "source": [
    "# Unique value counts for CoffeeHouse column after handling missing values\n",
    "getColumnValueCounts('CarryAway')"
   ]
  },
  {
   "cell_type": "markdown",
   "metadata": {},
   "source": [
    "<b>3.5 <i>RestaurantLessThan20</i> column is categorical column and have ~1.02% of values missing. We would replace missing values with random column values as mode of multiple values are high.</b>"
   ]
  },
  {
   "cell_type": "code",
   "execution_count": 22,
   "metadata": {},
   "outputs": [
    {
     "data": {
      "text/plain": [
       "array(['4~8', '1~3', 'less1', 'gt8', nan, 'never'], dtype=object)"
      ]
     },
     "execution_count": 22,
     "metadata": {},
     "output_type": "execute_result"
    }
   ],
   "source": [
    "# Check unique values\n",
    "data['RestaurantLessThan20'].unique()"
   ]
  },
  {
   "cell_type": "code",
   "execution_count": 23,
   "metadata": {},
   "outputs": [
    {
     "data": {
      "text/plain": [
       "RestaurantLessThan20\n",
       "1~3      5376\n",
       "4~8      3580\n",
       "gt8      1285\n",
       "less1    2093\n",
       "never     220\n",
       "Name: count, dtype: int64"
      ]
     },
     "execution_count": 23,
     "metadata": {},
     "output_type": "execute_result"
    }
   ],
   "source": [
    "# Check frquency of each unique values for colum RestaurantLessThan20\n",
    "getColumnValueCounts('RestaurantLessThan20')"
   ]
  },
  {
   "cell_type": "code",
   "execution_count": 24,
   "metadata": {},
   "outputs": [
    {
     "data": {
      "text/plain": [
       "np.int64(0)"
      ]
     },
     "execution_count": 24,
     "metadata": {},
     "output_type": "execute_result"
    }
   ],
   "source": [
    "# Fill missing values with mode of the column\n",
    "data['RestaurantLessThan20'] = data['RestaurantLessThan20'].fillna(data['RestaurantLessThan20'].mode()[0])\n",
    "data['RestaurantLessThan20'].isna().sum()"
   ]
  },
  {
   "cell_type": "code",
   "execution_count": 25,
   "metadata": {},
   "outputs": [
    {
     "data": {
      "text/plain": [
       "RestaurantLessThan20\n",
       "1~3      5506\n",
       "4~8      3580\n",
       "gt8      1285\n",
       "less1    2093\n",
       "never     220\n",
       "Name: count, dtype: int64"
      ]
     },
     "execution_count": 25,
     "metadata": {},
     "output_type": "execute_result"
    }
   ],
   "source": [
    "# Unique value counts for CoffeeHouse column after handling missing values\n",
    "getColumnValueCounts('RestaurantLessThan20')"
   ]
  },
  {
   "cell_type": "markdown",
   "metadata": {},
   "source": [
    "<b>3.1.6 <i>Restaurant20To50</i> column is categorical column and have ~1.49% of values missing. We would replace missing values with random column values as mode of multiple values are high.</b>"
   ]
  },
  {
   "cell_type": "code",
   "execution_count": 26,
   "metadata": {},
   "outputs": [
    {
     "data": {
      "text/plain": [
       "array(['1~3', 'less1', 'never', 'gt8', '4~8', nan], dtype=object)"
      ]
     },
     "execution_count": 26,
     "metadata": {},
     "output_type": "execute_result"
    }
   ],
   "source": [
    "# Check unique values\n",
    "data['Restaurant20To50'].unique()"
   ]
  },
  {
   "cell_type": "markdown",
   "metadata": {},
   "source": [
    "<b>Check frquency of each unique values</b>"
   ]
  },
  {
   "cell_type": "code",
   "execution_count": 27,
   "metadata": {},
   "outputs": [
    {
     "data": {
      "text/plain": [
       "Restaurant20To50\n",
       "1~3      3290\n",
       "4~8       728\n",
       "gt8       264\n",
       "less1    6077\n",
       "never    2136\n",
       "Name: count, dtype: int64"
      ]
     },
     "execution_count": 27,
     "metadata": {},
     "output_type": "execute_result"
    }
   ],
   "source": [
    "# Check frequency of each unique values\n",
    "getColumnValueCounts('Restaurant20To50')"
   ]
  },
  {
   "cell_type": "code",
   "execution_count": 28,
   "metadata": {},
   "outputs": [
    {
     "data": {
      "text/plain": [
       "np.int64(0)"
      ]
     },
     "execution_count": 28,
     "metadata": {},
     "output_type": "execute_result"
    }
   ],
   "source": [
    "# Fill missing values with mode of the column\n",
    "data['Restaurant20To50'] = data['Restaurant20To50'].fillna(data['Restaurant20To50'].mode()[0])\n",
    "data['Restaurant20To50'].isna().sum()"
   ]
  },
  {
   "cell_type": "code",
   "execution_count": 29,
   "metadata": {},
   "outputs": [
    {
     "data": {
      "text/plain": [
       "Restaurant20To50\n",
       "1~3      3290\n",
       "4~8       728\n",
       "gt8       264\n",
       "less1    6266\n",
       "never    2136\n",
       "Name: count, dtype: int64"
      ]
     },
     "execution_count": 29,
     "metadata": {},
     "output_type": "execute_result"
    }
   ],
   "source": [
    "# Unique value counts for CoffeeHouse column after handling missing values\n",
    "getColumnValueCounts('Restaurant20To50')"
   ]
  },
  {
   "cell_type": "markdown",
   "metadata": {
    "id": "YE6oJbXd_qRI"
   },
   "source": [
    "4. What proportion of the total observations chose to accept the coupon?\n",
    "\n"
   ]
  },
  {
   "cell_type": "code",
   "execution_count": 30,
   "metadata": {
    "id": "86GGqBTv_qRI"
   },
   "outputs": [
    {
     "name": "stdout",
     "output_type": "stream",
     "text": [
      "Coupon Acceptance Proportion: 7210 / 12684 / 56.84 %\n"
     ]
    }
   ],
   "source": [
    "# Find all coupons acceptance performance\n",
    "def find_coupon_acceptance():\n",
    "    total_observations = data.shape[0]\n",
    "    coupon_accept_count = data[data['Y'] == 1]['Y'].sum()\n",
    "    coupon_acceptance_proportion = np.round((coupon_accept_count / total_observations) * 100, 2)\n",
    "    print(f\"Coupon Acceptance Proportion: {coupon_accept_count} / {total_observations} / {coupon_acceptance_proportion} %\")\n",
    "\n",
    "find_coupon_acceptance()"
   ]
  },
  {
   "cell_type": "markdown",
   "metadata": {},
   "source": [
    "<h><b>Summary: Coupon Acceptance Proportion: 56.84 %<b></h>"
   ]
  },
  {
   "cell_type": "code",
   "execution_count": 31,
   "metadata": {},
   "outputs": [
    {
     "data": {
      "image/png": "[encoded data removed]",
      "text/plain": [
       "<Figure size 640x480 with 1 Axes>"
      ]
     },
     "metadata": {},
     "output_type": "display_data"
    }
   ],
   "source": [
    "# Plot overall coupon acceptance and decline\n",
    "\n",
    "def plot_coupon_acceptance():\n",
    "    coupons_acceptance_df = data.groupby('Y')['Y'].value_counts()\n",
    "    coupons_acceptance_df.plot(kind='pie', labels=['Rejected', 'Accepted'], explode = [0.01,0.01], autopct = '%1.2f%%', colors = ['r', 'g'])\n",
    "    plt.legend(title=\"Coupon Acceptance\", bbox_to_anchor=(0.85,1.025))\n",
    "    plt.ylabel('Coupons Distribution')\n",
    "    plt.title('Coupon Acceptance Proportion')\n",
    "    plt.savefig(\"images/overall_coupons_acceptance_proportion.png\")\n",
    "\n",
    "plot_coupon_acceptance()"
   ]
  },
  {
   "cell_type": "markdown",
   "metadata": {
    "id": "vflz0DoE_qRI"
   },
   "source": [
    "5. Use a bar plot to visualize the `coupon` column."
   ]
  },
  {
   "cell_type": "code",
   "execution_count": 32,
   "metadata": {
    "id": "dHFh3E45_qRI"
   },
   "outputs": [
    {
     "data": {
      "text/plain": [
       "array(['Restaurant(<20)', 'Coffee House', 'Carry out & Take away', 'Bar',\n",
       "       'Restaurant(20-50)'], dtype=object)"
      ]
     },
     "execution_count": 32,
     "metadata": {},
     "output_type": "execute_result"
    }
   ],
   "source": [
    "# Check unique values for coupon column\n",
    "data['coupon'].unique()"
   ]
  },
  {
   "cell_type": "code",
   "execution_count": 33,
   "metadata": {},
   "outputs": [
    {
     "data": {
      "text/html": [
       "<div>\n",
       "<style scoped>\n",
       "    .dataframe tbody tr th:only-of-type {\n",
       "        vertical-align: middle;\n",
       "    }\n",
       "\n",
       "    .dataframe tbody tr th {\n",
       "        vertical-align: top;\n",
       "    }\n",
       "\n",
       "    .dataframe thead th {\n",
       "        text-align: right;\n",
       "    }\n",
       "</style>\n",
       "<table border=\"1\" class=\"dataframe\">\n",
       "  <thead>\n",
       "    <tr style=\"text-align: right;\">\n",
       "      <th></th>\n",
       "      <th>coupon</th>\n",
       "      <th>count</th>\n",
       "    </tr>\n",
       "  </thead>\n",
       "  <tbody>\n",
       "    <tr>\n",
       "      <th>0</th>\n",
       "      <td>Bar</td>\n",
       "      <td>2017</td>\n",
       "    </tr>\n",
       "    <tr>\n",
       "      <th>1</th>\n",
       "      <td>Carry out &amp; Take away</td>\n",
       "      <td>2393</td>\n",
       "    </tr>\n",
       "    <tr>\n",
       "      <th>2</th>\n",
       "      <td>Coffee House</td>\n",
       "      <td>3996</td>\n",
       "    </tr>\n",
       "    <tr>\n",
       "      <th>3</th>\n",
       "      <td>Restaurant(20-50)</td>\n",
       "      <td>1492</td>\n",
       "    </tr>\n",
       "    <tr>\n",
       "      <th>4</th>\n",
       "      <td>Restaurant(&lt;20)</td>\n",
       "      <td>2786</td>\n",
       "    </tr>\n",
       "  </tbody>\n",
       "</table>\n",
       "</div>"
      ],
      "text/plain": [
       "                  coupon  count\n",
       "0                    Bar   2017\n",
       "1  Carry out & Take away   2393\n",
       "2           Coffee House   3996\n",
       "3      Restaurant(20-50)   1492\n",
       "4        Restaurant(<20)   2786"
      ]
     },
     "execution_count": 33,
     "metadata": {},
     "output_type": "execute_result"
    }
   ],
   "source": [
    "# Find count for each type of coupon\n",
    "coupon = getColumnValueCounts('coupon').reset_index()\n",
    "coupon"
   ]
  },
  {
   "cell_type": "code",
   "execution_count": 34,
   "metadata": {},
   "outputs": [
    {
     "data": {
      "image/png": "[encoded data removed]",
      "text/plain": [
       "<Figure size 1000x800 with 1 Axes>"
      ]
     },
     "metadata": {},
     "output_type": "display_data"
    }
   ],
   "source": [
    "# Bar plot visualization for coupon types\n",
    "def plot_coupon_types_distribution():\n",
    "    plt.figure(figsize=(10, 8))\n",
    "    sns.barplot(coupon, x='coupon', y='count', hue='coupon')\n",
    "    plt.title('Coupon Types Count Distribution')\n",
    "    plt.xlabel('Coupon Type')\n",
    "    plt.ylabel('Coupon Counts')\n",
    "    plt.tight_layout()\n",
    "    plt.xticks(rotation=45)\n",
    "    plt.savefig(\"images/coupons_types_distribution.png\")\n",
    "    plt.show()\n",
    "\n",
    "plot_coupon_types_distribution()"
   ]
  },
  {
   "cell_type": "markdown",
   "metadata": {
    "id": "Qw4lCyx2_qRI"
   },
   "source": [
    "6. Use a histogram to visualize the temperature column."
   ]
  },
  {
   "cell_type": "code",
   "execution_count": 35,
   "metadata": {
    "id": "Yg9Anv71_qRI"
   },
   "outputs": [
    {
     "data": {
      "text/html": [
       "<div>\n",
       "<style scoped>\n",
       "    .dataframe tbody tr th:only-of-type {\n",
       "        vertical-align: middle;\n",
       "    }\n",
       "\n",
       "    .dataframe tbody tr th {\n",
       "        vertical-align: top;\n",
       "    }\n",
       "\n",
       "    .dataframe thead th {\n",
       "        text-align: right;\n",
       "    }\n",
       "</style>\n",
       "<table border=\"1\" class=\"dataframe\">\n",
       "  <thead>\n",
       "    <tr style=\"text-align: right;\">\n",
       "      <th></th>\n",
       "      <th>temperature</th>\n",
       "    </tr>\n",
       "  </thead>\n",
       "  <tbody>\n",
       "    <tr>\n",
       "      <th>0</th>\n",
       "      <td>55</td>\n",
       "    </tr>\n",
       "    <tr>\n",
       "      <th>1</th>\n",
       "      <td>80</td>\n",
       "    </tr>\n",
       "    <tr>\n",
       "      <th>2</th>\n",
       "      <td>80</td>\n",
       "    </tr>\n",
       "    <tr>\n",
       "      <th>3</th>\n",
       "      <td>80</td>\n",
       "    </tr>\n",
       "    <tr>\n",
       "      <th>4</th>\n",
       "      <td>80</td>\n",
       "    </tr>\n",
       "  </tbody>\n",
       "</table>\n",
       "</div>"
      ],
      "text/plain": [
       "   temperature\n",
       "0           55\n",
       "1           80\n",
       "2           80\n",
       "3           80\n",
       "4           80"
      ]
     },
     "execution_count": 35,
     "metadata": {},
     "output_type": "execute_result"
    }
   ],
   "source": [
    "temp_df = data[['temperature']]\n",
    "temp_df.head()"
   ]
  },
  {
   "cell_type": "code",
   "execution_count": 36,
   "metadata": {
    "id": "zLtOaJQk_qRI"
   },
   "outputs": [
    {
     "data": {
      "image/png": "[encoded data removed]",
      "text/plain": [
       "<Figure size 600x600 with 1 Axes>"
      ]
     },
     "metadata": {},
     "output_type": "display_data"
    }
   ],
   "source": [
    "# Visulation for temperature column\n",
    "def plot_temperature_col_distribution(col, title, file_name):\n",
    "    plt.figure(figsize=(6, 6))\n",
    "    sns.histplot(temp_df, x=col, hue=col, discrete=True, edgecolor='black')\n",
    "    plt.title(title)\n",
    "    plt.savefig(file_name)\n",
    "    plt.show()\n",
    "\n",
    "plot_temperature_col_distribution('temperature', 'Histogram for Temperature', 'images/temperature_histogram.png')"
   ]
  },
  {
   "cell_type": "markdown",
   "metadata": {
    "id": "FupfgeJk_qRJ"
   },
   "source": [
    "**Investigating the Bar Coupons**\n",
    "\n",
    "Now, we will lead you through an exploration of just the bar related coupons.  \n",
    "\n",
    "1. Create a new `DataFrame` that contains just the bar coupons.\n"
   ]
  },
  {
   "cell_type": "code",
   "execution_count": 37,
   "metadata": {
    "id": "tMBlWuGq_qRJ"
   },
   "outputs": [
    {
     "data": {
      "text/plain": [
       "array(['Restaurant(<20)', 'Coffee House', 'Carry out & Take away', 'Bar',\n",
       "       'Restaurant(20-50)'], dtype=object)"
      ]
     },
     "execution_count": 37,
     "metadata": {},
     "output_type": "execute_result"
    }
   ],
   "source": [
    "# Check unique values for coupon column\n",
    "data['coupon'].unique()"
   ]
  },
  {
   "cell_type": "code",
   "execution_count": 38,
   "metadata": {},
   "outputs": [
    {
     "data": {
      "text/html": [
       "<div>\n",
       "<style scoped>\n",
       "    .dataframe tbody tr th:only-of-type {\n",
       "        vertical-align: middle;\n",
       "    }\n",
       "\n",
       "    .dataframe tbody tr th {\n",
       "        vertical-align: top;\n",
       "    }\n",
       "\n",
       "    .dataframe thead th {\n",
       "        text-align: right;\n",
       "    }\n",
       "</style>\n",
       "<table border=\"1\" class=\"dataframe\">\n",
       "  <thead>\n",
       "    <tr style=\"text-align: right;\">\n",
       "      <th></th>\n",
       "      <th>destination</th>\n",
       "      <th>passanger</th>\n",
       "      <th>weather</th>\n",
       "      <th>temperature</th>\n",
       "      <th>time</th>\n",
       "      <th>coupon</th>\n",
       "      <th>expiration</th>\n",
       "      <th>gender</th>\n",
       "      <th>age</th>\n",
       "      <th>maritalStatus</th>\n",
       "      <th>...</th>\n",
       "      <th>CoffeeHouse</th>\n",
       "      <th>CarryAway</th>\n",
       "      <th>RestaurantLessThan20</th>\n",
       "      <th>Restaurant20To50</th>\n",
       "      <th>toCoupon_GEQ5min</th>\n",
       "      <th>toCoupon_GEQ15min</th>\n",
       "      <th>toCoupon_GEQ25min</th>\n",
       "      <th>direction_same</th>\n",
       "      <th>direction_opp</th>\n",
       "      <th>Y</th>\n",
       "    </tr>\n",
       "  </thead>\n",
       "  <tbody>\n",
       "    <tr>\n",
       "      <th>9</th>\n",
       "      <td>No Urgent Place</td>\n",
       "      <td>Kid(s)</td>\n",
       "      <td>Sunny</td>\n",
       "      <td>80</td>\n",
       "      <td>10AM</td>\n",
       "      <td>Bar</td>\n",
       "      <td>1d</td>\n",
       "      <td>Female</td>\n",
       "      <td>21</td>\n",
       "      <td>Unmarried partner</td>\n",
       "      <td>...</td>\n",
       "      <td>never</td>\n",
       "      <td>1~3</td>\n",
       "      <td>4~8</td>\n",
       "      <td>1~3</td>\n",
       "      <td>1</td>\n",
       "      <td>1</td>\n",
       "      <td>0</td>\n",
       "      <td>0</td>\n",
       "      <td>1</td>\n",
       "      <td>0</td>\n",
       "    </tr>\n",
       "    <tr>\n",
       "      <th>13</th>\n",
       "      <td>Home</td>\n",
       "      <td>Alone</td>\n",
       "      <td>Sunny</td>\n",
       "      <td>55</td>\n",
       "      <td>6PM</td>\n",
       "      <td>Bar</td>\n",
       "      <td>1d</td>\n",
       "      <td>Female</td>\n",
       "      <td>21</td>\n",
       "      <td>Unmarried partner</td>\n",
       "      <td>...</td>\n",
       "      <td>never</td>\n",
       "      <td>1~3</td>\n",
       "      <td>4~8</td>\n",
       "      <td>1~3</td>\n",
       "      <td>1</td>\n",
       "      <td>0</td>\n",
       "      <td>0</td>\n",
       "      <td>1</td>\n",
       "      <td>0</td>\n",
       "      <td>1</td>\n",
       "    </tr>\n",
       "    <tr>\n",
       "      <th>17</th>\n",
       "      <td>Work</td>\n",
       "      <td>Alone</td>\n",
       "      <td>Sunny</td>\n",
       "      <td>55</td>\n",
       "      <td>7AM</td>\n",
       "      <td>Bar</td>\n",
       "      <td>1d</td>\n",
       "      <td>Female</td>\n",
       "      <td>21</td>\n",
       "      <td>Unmarried partner</td>\n",
       "      <td>...</td>\n",
       "      <td>never</td>\n",
       "      <td>1~3</td>\n",
       "      <td>4~8</td>\n",
       "      <td>1~3</td>\n",
       "      <td>1</td>\n",
       "      <td>1</td>\n",
       "      <td>1</td>\n",
       "      <td>0</td>\n",
       "      <td>1</td>\n",
       "      <td>0</td>\n",
       "    </tr>\n",
       "    <tr>\n",
       "      <th>24</th>\n",
       "      <td>No Urgent Place</td>\n",
       "      <td>Friend(s)</td>\n",
       "      <td>Sunny</td>\n",
       "      <td>80</td>\n",
       "      <td>10AM</td>\n",
       "      <td>Bar</td>\n",
       "      <td>1d</td>\n",
       "      <td>Male</td>\n",
       "      <td>21</td>\n",
       "      <td>Single</td>\n",
       "      <td>...</td>\n",
       "      <td>less1</td>\n",
       "      <td>4~8</td>\n",
       "      <td>4~8</td>\n",
       "      <td>less1</td>\n",
       "      <td>1</td>\n",
       "      <td>0</td>\n",
       "      <td>0</td>\n",
       "      <td>0</td>\n",
       "      <td>1</td>\n",
       "      <td>1</td>\n",
       "    </tr>\n",
       "    <tr>\n",
       "      <th>35</th>\n",
       "      <td>Home</td>\n",
       "      <td>Alone</td>\n",
       "      <td>Sunny</td>\n",
       "      <td>55</td>\n",
       "      <td>6PM</td>\n",
       "      <td>Bar</td>\n",
       "      <td>1d</td>\n",
       "      <td>Male</td>\n",
       "      <td>21</td>\n",
       "      <td>Single</td>\n",
       "      <td>...</td>\n",
       "      <td>less1</td>\n",
       "      <td>4~8</td>\n",
       "      <td>4~8</td>\n",
       "      <td>less1</td>\n",
       "      <td>1</td>\n",
       "      <td>0</td>\n",
       "      <td>0</td>\n",
       "      <td>1</td>\n",
       "      <td>0</td>\n",
       "      <td>1</td>\n",
       "    </tr>\n",
       "    <tr>\n",
       "      <th>...</th>\n",
       "      <td>...</td>\n",
       "      <td>...</td>\n",
       "      <td>...</td>\n",
       "      <td>...</td>\n",
       "      <td>...</td>\n",
       "      <td>...</td>\n",
       "      <td>...</td>\n",
       "      <td>...</td>\n",
       "      <td>...</td>\n",
       "      <td>...</td>\n",
       "      <td>...</td>\n",
       "      <td>...</td>\n",
       "      <td>...</td>\n",
       "      <td>...</td>\n",
       "      <td>...</td>\n",
       "      <td>...</td>\n",
       "      <td>...</td>\n",
       "      <td>...</td>\n",
       "      <td>...</td>\n",
       "      <td>...</td>\n",
       "      <td>...</td>\n",
       "    </tr>\n",
       "    <tr>\n",
       "      <th>12663</th>\n",
       "      <td>No Urgent Place</td>\n",
       "      <td>Friend(s)</td>\n",
       "      <td>Sunny</td>\n",
       "      <td>80</td>\n",
       "      <td>10PM</td>\n",
       "      <td>Bar</td>\n",
       "      <td>1d</td>\n",
       "      <td>Male</td>\n",
       "      <td>26</td>\n",
       "      <td>Single</td>\n",
       "      <td>...</td>\n",
       "      <td>never</td>\n",
       "      <td>1~3</td>\n",
       "      <td>4~8</td>\n",
       "      <td>1~3</td>\n",
       "      <td>1</td>\n",
       "      <td>1</td>\n",
       "      <td>0</td>\n",
       "      <td>0</td>\n",
       "      <td>1</td>\n",
       "      <td>0</td>\n",
       "    </tr>\n",
       "    <tr>\n",
       "      <th>12664</th>\n",
       "      <td>No Urgent Place</td>\n",
       "      <td>Friend(s)</td>\n",
       "      <td>Sunny</td>\n",
       "      <td>55</td>\n",
       "      <td>10PM</td>\n",
       "      <td>Bar</td>\n",
       "      <td>2h</td>\n",
       "      <td>Male</td>\n",
       "      <td>26</td>\n",
       "      <td>Single</td>\n",
       "      <td>...</td>\n",
       "      <td>never</td>\n",
       "      <td>1~3</td>\n",
       "      <td>4~8</td>\n",
       "      <td>1~3</td>\n",
       "      <td>1</td>\n",
       "      <td>1</td>\n",
       "      <td>0</td>\n",
       "      <td>0</td>\n",
       "      <td>1</td>\n",
       "      <td>0</td>\n",
       "    </tr>\n",
       "    <tr>\n",
       "      <th>12667</th>\n",
       "      <td>No Urgent Place</td>\n",
       "      <td>Alone</td>\n",
       "      <td>Rainy</td>\n",
       "      <td>55</td>\n",
       "      <td>10AM</td>\n",
       "      <td>Bar</td>\n",
       "      <td>1d</td>\n",
       "      <td>Male</td>\n",
       "      <td>26</td>\n",
       "      <td>Single</td>\n",
       "      <td>...</td>\n",
       "      <td>never</td>\n",
       "      <td>1~3</td>\n",
       "      <td>4~8</td>\n",
       "      <td>1~3</td>\n",
       "      <td>1</td>\n",
       "      <td>1</td>\n",
       "      <td>0</td>\n",
       "      <td>0</td>\n",
       "      <td>1</td>\n",
       "      <td>0</td>\n",
       "    </tr>\n",
       "    <tr>\n",
       "      <th>12670</th>\n",
       "      <td>No Urgent Place</td>\n",
       "      <td>Partner</td>\n",
       "      <td>Rainy</td>\n",
       "      <td>55</td>\n",
       "      <td>6PM</td>\n",
       "      <td>Bar</td>\n",
       "      <td>2h</td>\n",
       "      <td>Male</td>\n",
       "      <td>26</td>\n",
       "      <td>Single</td>\n",
       "      <td>...</td>\n",
       "      <td>never</td>\n",
       "      <td>1~3</td>\n",
       "      <td>4~8</td>\n",
       "      <td>1~3</td>\n",
       "      <td>1</td>\n",
       "      <td>1</td>\n",
       "      <td>0</td>\n",
       "      <td>0</td>\n",
       "      <td>1</td>\n",
       "      <td>0</td>\n",
       "    </tr>\n",
       "    <tr>\n",
       "      <th>12682</th>\n",
       "      <td>Work</td>\n",
       "      <td>Alone</td>\n",
       "      <td>Snowy</td>\n",
       "      <td>30</td>\n",
       "      <td>7AM</td>\n",
       "      <td>Bar</td>\n",
       "      <td>1d</td>\n",
       "      <td>Male</td>\n",
       "      <td>26</td>\n",
       "      <td>Single</td>\n",
       "      <td>...</td>\n",
       "      <td>never</td>\n",
       "      <td>1~3</td>\n",
       "      <td>4~8</td>\n",
       "      <td>1~3</td>\n",
       "      <td>1</td>\n",
       "      <td>1</td>\n",
       "      <td>1</td>\n",
       "      <td>0</td>\n",
       "      <td>1</td>\n",
       "      <td>0</td>\n",
       "    </tr>\n",
       "  </tbody>\n",
       "</table>\n",
       "<p>2017 rows × 25 columns</p>\n",
       "</div>"
      ],
      "text/plain": [
       "           destination  passanger weather  temperature  time coupon  \\\n",
       "9      No Urgent Place     Kid(s)   Sunny           80  10AM    Bar   \n",
       "13                Home      Alone   Sunny           55   6PM    Bar   \n",
       "17                Work      Alone   Sunny           55   7AM    Bar   \n",
       "24     No Urgent Place  Friend(s)   Sunny           80  10AM    Bar   \n",
       "35                Home      Alone   Sunny           55   6PM    Bar   \n",
       "...                ...        ...     ...          ...   ...    ...   \n",
       "12663  No Urgent Place  Friend(s)   Sunny           80  10PM    Bar   \n",
       "12664  No Urgent Place  Friend(s)   Sunny           55  10PM    Bar   \n",
       "12667  No Urgent Place      Alone   Rainy           55  10AM    Bar   \n",
       "12670  No Urgent Place    Partner   Rainy           55   6PM    Bar   \n",
       "12682             Work      Alone   Snowy           30   7AM    Bar   \n",
       "\n",
       "      expiration  gender age      maritalStatus  ...  CoffeeHouse CarryAway  \\\n",
       "9             1d  Female  21  Unmarried partner  ...        never       1~3   \n",
       "13            1d  Female  21  Unmarried partner  ...        never       1~3   \n",
       "17            1d  Female  21  Unmarried partner  ...        never       1~3   \n",
       "24            1d    Male  21             Single  ...        less1       4~8   \n",
       "35            1d    Male  21             Single  ...        less1       4~8   \n",
       "...          ...     ...  ..                ...  ...          ...       ...   \n",
       "12663         1d    Male  26             Single  ...        never       1~3   \n",
       "12664         2h    Male  26             Single  ...        never       1~3   \n",
       "12667         1d    Male  26             Single  ...        never       1~3   \n",
       "12670         2h    Male  26             Single  ...        never       1~3   \n",
       "12682         1d    Male  26             Single  ...        never       1~3   \n",
       "\n",
       "      RestaurantLessThan20 Restaurant20To50 toCoupon_GEQ5min  \\\n",
       "9                      4~8              1~3                1   \n",
       "13                     4~8              1~3                1   \n",
       "17                     4~8              1~3                1   \n",
       "24                     4~8            less1                1   \n",
       "35                     4~8            less1                1   \n",
       "...                    ...              ...              ...   \n",
       "12663                  4~8              1~3                1   \n",
       "12664                  4~8              1~3                1   \n",
       "12667                  4~8              1~3                1   \n",
       "12670                  4~8              1~3                1   \n",
       "12682                  4~8              1~3                1   \n",
       "\n",
       "      toCoupon_GEQ15min toCoupon_GEQ25min direction_same direction_opp  Y  \n",
       "9                     1                 0              0             1  0  \n",
       "13                    0                 0              1             0  1  \n",
       "17                    1                 1              0             1  0  \n",
       "24                    0                 0              0             1  1  \n",
       "35                    0                 0              1             0  1  \n",
       "...                 ...               ...            ...           ... ..  \n",
       "12663                 1                 0              0             1  0  \n",
       "12664                 1                 0              0             1  0  \n",
       "12667                 1                 0              0             1  0  \n",
       "12670                 1                 0              0             1  0  \n",
       "12682                 1                 1              0             1  0  \n",
       "\n",
       "[2017 rows x 25 columns]"
      ]
     },
     "execution_count": 38,
     "metadata": {},
     "output_type": "execute_result"
    }
   ],
   "source": [
    "# Get dataframe for coupon type 'Bar'\n",
    "bar_coupon_df = data[data['coupon'] == 'Bar']\n",
    "bar_coupon_df"
   ]
  },
  {
   "cell_type": "code",
   "execution_count": 39,
   "metadata": {},
   "outputs": [
    {
     "data": {
      "text/html": [
       "<div>\n",
       "<style scoped>\n",
       "    .dataframe tbody tr th:only-of-type {\n",
       "        vertical-align: middle;\n",
       "    }\n",
       "\n",
       "    .dataframe tbody tr th {\n",
       "        vertical-align: top;\n",
       "    }\n",
       "\n",
       "    .dataframe thead th {\n",
       "        text-align: right;\n",
       "    }\n",
       "</style>\n",
       "<table border=\"1\" class=\"dataframe\">\n",
       "  <thead>\n",
       "    <tr style=\"text-align: right;\">\n",
       "      <th></th>\n",
       "      <th>destination</th>\n",
       "      <th>passanger</th>\n",
       "      <th>weather</th>\n",
       "      <th>temperature</th>\n",
       "      <th>time</th>\n",
       "      <th>coupon</th>\n",
       "      <th>expiration</th>\n",
       "      <th>gender</th>\n",
       "      <th>age</th>\n",
       "      <th>maritalStatus</th>\n",
       "      <th>...</th>\n",
       "      <th>CoffeeHouse</th>\n",
       "      <th>CarryAway</th>\n",
       "      <th>RestaurantLessThan20</th>\n",
       "      <th>Restaurant20To50</th>\n",
       "      <th>toCoupon_GEQ5min</th>\n",
       "      <th>toCoupon_GEQ15min</th>\n",
       "      <th>toCoupon_GEQ25min</th>\n",
       "      <th>direction_same</th>\n",
       "      <th>direction_opp</th>\n",
       "      <th>Y</th>\n",
       "    </tr>\n",
       "  </thead>\n",
       "  <tbody>\n",
       "    <tr>\n",
       "      <th>13</th>\n",
       "      <td>Home</td>\n",
       "      <td>Alone</td>\n",
       "      <td>Sunny</td>\n",
       "      <td>55</td>\n",
       "      <td>6PM</td>\n",
       "      <td>Bar</td>\n",
       "      <td>1d</td>\n",
       "      <td>Female</td>\n",
       "      <td>21</td>\n",
       "      <td>Unmarried partner</td>\n",
       "      <td>...</td>\n",
       "      <td>never</td>\n",
       "      <td>1~3</td>\n",
       "      <td>4~8</td>\n",
       "      <td>1~3</td>\n",
       "      <td>1</td>\n",
       "      <td>0</td>\n",
       "      <td>0</td>\n",
       "      <td>1</td>\n",
       "      <td>0</td>\n",
       "      <td>1</td>\n",
       "    </tr>\n",
       "    <tr>\n",
       "      <th>24</th>\n",
       "      <td>No Urgent Place</td>\n",
       "      <td>Friend(s)</td>\n",
       "      <td>Sunny</td>\n",
       "      <td>80</td>\n",
       "      <td>10AM</td>\n",
       "      <td>Bar</td>\n",
       "      <td>1d</td>\n",
       "      <td>Male</td>\n",
       "      <td>21</td>\n",
       "      <td>Single</td>\n",
       "      <td>...</td>\n",
       "      <td>less1</td>\n",
       "      <td>4~8</td>\n",
       "      <td>4~8</td>\n",
       "      <td>less1</td>\n",
       "      <td>1</td>\n",
       "      <td>0</td>\n",
       "      <td>0</td>\n",
       "      <td>0</td>\n",
       "      <td>1</td>\n",
       "      <td>1</td>\n",
       "    </tr>\n",
       "    <tr>\n",
       "      <th>35</th>\n",
       "      <td>Home</td>\n",
       "      <td>Alone</td>\n",
       "      <td>Sunny</td>\n",
       "      <td>55</td>\n",
       "      <td>6PM</td>\n",
       "      <td>Bar</td>\n",
       "      <td>1d</td>\n",
       "      <td>Male</td>\n",
       "      <td>21</td>\n",
       "      <td>Single</td>\n",
       "      <td>...</td>\n",
       "      <td>less1</td>\n",
       "      <td>4~8</td>\n",
       "      <td>4~8</td>\n",
       "      <td>less1</td>\n",
       "      <td>1</td>\n",
       "      <td>0</td>\n",
       "      <td>0</td>\n",
       "      <td>1</td>\n",
       "      <td>0</td>\n",
       "      <td>1</td>\n",
       "    </tr>\n",
       "    <tr>\n",
       "      <th>39</th>\n",
       "      <td>Work</td>\n",
       "      <td>Alone</td>\n",
       "      <td>Sunny</td>\n",
       "      <td>55</td>\n",
       "      <td>7AM</td>\n",
       "      <td>Bar</td>\n",
       "      <td>1d</td>\n",
       "      <td>Male</td>\n",
       "      <td>21</td>\n",
       "      <td>Single</td>\n",
       "      <td>...</td>\n",
       "      <td>less1</td>\n",
       "      <td>4~8</td>\n",
       "      <td>4~8</td>\n",
       "      <td>less1</td>\n",
       "      <td>1</td>\n",
       "      <td>1</td>\n",
       "      <td>1</td>\n",
       "      <td>0</td>\n",
       "      <td>1</td>\n",
       "      <td>1</td>\n",
       "    </tr>\n",
       "    <tr>\n",
       "      <th>75</th>\n",
       "      <td>No Urgent Place</td>\n",
       "      <td>Kid(s)</td>\n",
       "      <td>Sunny</td>\n",
       "      <td>80</td>\n",
       "      <td>10AM</td>\n",
       "      <td>Bar</td>\n",
       "      <td>1d</td>\n",
       "      <td>Male</td>\n",
       "      <td>46</td>\n",
       "      <td>Married partner</td>\n",
       "      <td>...</td>\n",
       "      <td>1~3</td>\n",
       "      <td>1~3</td>\n",
       "      <td>1~3</td>\n",
       "      <td>less1</td>\n",
       "      <td>1</td>\n",
       "      <td>1</td>\n",
       "      <td>0</td>\n",
       "      <td>0</td>\n",
       "      <td>1</td>\n",
       "      <td>1</td>\n",
       "    </tr>\n",
       "  </tbody>\n",
       "</table>\n",
       "<p>5 rows × 25 columns</p>\n",
       "</div>"
      ],
      "text/plain": [
       "        destination  passanger weather  temperature  time coupon expiration  \\\n",
       "13             Home      Alone   Sunny           55   6PM    Bar         1d   \n",
       "24  No Urgent Place  Friend(s)   Sunny           80  10AM    Bar         1d   \n",
       "35             Home      Alone   Sunny           55   6PM    Bar         1d   \n",
       "39             Work      Alone   Sunny           55   7AM    Bar         1d   \n",
       "75  No Urgent Place     Kid(s)   Sunny           80  10AM    Bar         1d   \n",
       "\n",
       "    gender age      maritalStatus  ...  CoffeeHouse CarryAway  \\\n",
       "13  Female  21  Unmarried partner  ...        never       1~3   \n",
       "24    Male  21             Single  ...        less1       4~8   \n",
       "35    Male  21             Single  ...        less1       4~8   \n",
       "39    Male  21             Single  ...        less1       4~8   \n",
       "75    Male  46    Married partner  ...          1~3       1~3   \n",
       "\n",
       "   RestaurantLessThan20 Restaurant20To50 toCoupon_GEQ5min toCoupon_GEQ15min  \\\n",
       "13                  4~8              1~3                1                 0   \n",
       "24                  4~8            less1                1                 0   \n",
       "35                  4~8            less1                1                 0   \n",
       "39                  4~8            less1                1                 1   \n",
       "75                  1~3            less1                1                 1   \n",
       "\n",
       "   toCoupon_GEQ25min direction_same direction_opp  Y  \n",
       "13                 0              1             0  1  \n",
       "24                 0              0             1  1  \n",
       "35                 0              1             0  1  \n",
       "39                 1              0             1  1  \n",
       "75                 0              0             1  1  \n",
       "\n",
       "[5 rows x 25 columns]"
      ]
     },
     "execution_count": 39,
     "metadata": {},
     "output_type": "execute_result"
    }
   ],
   "source": [
    "accepted_bar_coupons_df = bar_coupon_df.query('Y == 1')\n",
    "accepted_bar_coupons_df.head()"
   ]
  },
  {
   "cell_type": "markdown",
   "metadata": {
    "id": "8ue6uCqf_qRJ"
   },
   "source": [
    "2. What proportion of bar coupons were accepted?\n"
   ]
  },
  {
   "cell_type": "code",
   "execution_count": 40,
   "metadata": {
    "id": "hSdte8Mi_qRK"
   },
   "outputs": [],
   "source": [
    "# find total number of bar coupons\n",
    "total_bar_coupons = bar_coupon_df.shape[0]\n",
    "\n",
    "# find total number of accepted bar coupons\n",
    "accepted_bar_coupons = accepted_bar_coupons_df['Y'].count()"
   ]
  },
  {
   "cell_type": "code",
   "execution_count": 41,
   "metadata": {},
   "outputs": [
    {
     "name": "stdout",
     "output_type": "stream",
     "text": [
      "Accepted bar coupons proportion: 41.0 %\n"
     ]
    }
   ],
   "source": [
    "# Accepted bar coupons proportion compared to total bar coupons\n",
    "accpted_bar_coupons_proportion = np.round((accepted_bar_coupons / total_bar_coupons) * 100, 2)\n",
    "print(f'Accepted bar coupons proportion: {accpted_bar_coupons_proportion} %')"
   ]
  },
  {
   "cell_type": "markdown",
   "metadata": {},
   "source": [
    "<h><b>Summary: Bar coupons acceptance rate is 41.0%<b></h>\n",
    "    <ol>\n",
    "      <li><b>Acceptance count for bar coupons (B1): 827</b></li>\n",
    "      <li><b>Total bar coupons count (B2): 2017</b></li>\n",
    "    </ol>"
   ]
  },
  {
   "cell_type": "code",
   "execution_count": 42,
   "metadata": {},
   "outputs": [
    {
     "data": {
      "image/png": "[encoded data removed]",
      "text/plain": [
       "<Figure size 640x480 with 1 Axes>"
      ]
     },
     "metadata": {},
     "output_type": "display_data"
    }
   ],
   "source": [
    "# plot Bar coupons acceptance proportion\n",
    "\n",
    "def plot_bar_coupons_acceptance_proportion():\n",
    "    plt.title(\"Bar Coupons (Accepted vs Rejected)\")\n",
    "    bar_coupon_df['Y'].value_counts().plot(kind='pie', labels=['Rejected', 'Accepted'], explode = [0.02,0.02], autopct = '%1.2f%%', colors = ['r', 'g'])\n",
    "    plt.legend(title=\"Acceptance\", bbox_to_anchor=(0.85,1.025), loc=\"upper left\")\n",
    "    plt.ylabel('Bar Coupons Acceptance %')\n",
    "    plt.title('Overall Bar Coupons Acceptance')\n",
    "\n",
    "plot_bar_coupons_acceptance_proportion()"
   ]
  },
  {
   "cell_type": "markdown",
   "metadata": {
    "id": "85nA_iEi_qRK"
   },
   "source": [
    "3. Compare the acceptance rate between those who went to a bar 3 or fewer times a month to those who went more.\n"
   ]
  },
  {
   "cell_type": "code",
   "execution_count": 43,
   "metadata": {
    "id": "LBOrN-XM_qRK"
   },
   "outputs": [
    {
     "data": {
      "text/plain": [
       "array(['never', 'less1', '1~3', 'gt8', '4~8'], dtype=object)"
      ]
     },
     "execution_count": 43,
     "metadata": {},
     "output_type": "execute_result"
    }
   ],
   "source": [
    "# Check unique values for Bar column\n",
    "data['Bar'].unique()"
   ]
  },
  {
   "cell_type": "code",
   "execution_count": 44,
   "metadata": {},
   "outputs": [
    {
     "data": {
      "text/plain": [
       "destination                      No Urgent Place\n",
       "passanger                                  Alone\n",
       "weather                                    Sunny\n",
       "temperature                                   55\n",
       "time                                         2PM\n",
       "coupon                           Restaurant(<20)\n",
       "expiration                                    1d\n",
       "gender                                    Female\n",
       "age                                           21\n",
       "maritalStatus                  Unmarried partner\n",
       "has_children                                   1\n",
       "education               Some college - no degree\n",
       "occupation                            Unemployed\n",
       "income                           $37500 - $49999\n",
       "Bar                                        never\n",
       "CoffeeHouse                                never\n",
       "CarryAway                                    1~3\n",
       "RestaurantLessThan20                         4~8\n",
       "Restaurant20To50                             1~3\n",
       "toCoupon_GEQ5min                               1\n",
       "toCoupon_GEQ15min                              0\n",
       "toCoupon_GEQ25min                              0\n",
       "direction_same                                 0\n",
       "direction_opp                                  1\n",
       "Y                                              1\n",
       "Name: 0, dtype: object"
      ]
     },
     "execution_count": 44,
     "metadata": {},
     "output_type": "execute_result"
    }
   ],
   "source": [
    "data.iloc[0]"
   ]
  },
  {
   "cell_type": "code",
   "execution_count": 45,
   "metadata": {},
   "outputs": [
    {
     "data": {
      "text/plain": [
       "Bar\n",
       "1~3      2473\n",
       "4~8      1076\n",
       "gt8       349\n",
       "less1    3482\n",
       "never    5304\n",
       "Name: count, dtype: int64"
      ]
     },
     "execution_count": 45,
     "metadata": {},
     "output_type": "execute_result"
    }
   ],
   "source": [
    "# Find value counts for bar visits frquency\n",
    "getColumnValueCounts('Bar')"
   ]
  },
  {
   "cell_type": "code",
   "execution_count": 46,
   "metadata": {},
   "outputs": [
    {
     "name": "stdout",
     "output_type": "stream",
     "text": [
      "Bar visits frequency comparision: 33.42/7.59/4.4\n"
     ]
    }
   ],
   "source": [
    "# set bar visits list based on frquency of visit\n",
    "bar_visits_3_or_less = ['1~3', 'less1', 'never']\n",
    "bar_visits_4_or_more = ['4~8','gt8']\n",
    "\n",
    "# Bar visits frequnecy comparision for <=3 and >=4 visits for accepted bar coupons\n",
    "def bar_visits_frquency_comparision():    \n",
    "    bar_visits_3_or_less_acceptance = accepted_bar_coupons_df.query('Bar in @bar_visits_3_or_less and coupon == \"Bar\"')['Bar'].value_counts().sum()\n",
    "    bar_visits_3_or_less_acceptance\n",
    "    \n",
    "    bar_visits_4_or_more_acceptance = accepted_bar_coupons_df.query('Bar in @bar_visits_4_or_more and coupon == \"Bar\"')['Bar'].value_counts().sum()\n",
    "    bar_visits_4_or_more_acceptance\n",
    "    \n",
    "    accept_rate_visits_3_or_fewer = np.round((bar_visits_3_or_less_acceptance / total_bar_coupons) * 100, 2)\n",
    "    accept_rate_visits_4_or_more = np.round((bar_visits_4_or_more_acceptance / total_bar_coupons) * 100, 2)\n",
    "    visits_count_accept_rate_comp = np.round(accept_rate_visits_3_or_fewer / accept_rate_visits_4_or_more, 2)\n",
    "    \n",
    "    print(f'Bar visits frequency comparision: {accept_rate_visits_3_or_fewer}/{accept_rate_visits_4_or_more}/{visits_count_accept_rate_comp}')\n",
    "\n",
    "bar_visits_frquency_comparision()"
   ]
  },
  {
   "cell_type": "markdown",
   "metadata": {},
   "source": [
    "<h><b>Summary: Acceptance rate proportion of drivers who visits bar 3 or more times a month, tend to accept coupon 4.4 times hihger to bar visitors who visit 4 or more times<b></h>\n",
    "    <ol>\n",
    "      <li><b>Acceptance rate for visits 3 or fewer (R1): 33.42 %</b></li>\n",
    "      <li><b>Acceptance rate for visits 4 or more (R2): 7.59 %</b></li>\n",
    "    </ol>"
   ]
  },
  {
   "cell_type": "code",
   "execution_count": 47,
   "metadata": {},
   "outputs": [
    {
     "data": {
      "image/png": "[encoded data removed]",
      "text/plain": [
       "<Figure size 640x480 with 1 Axes>"
      ]
     },
     "metadata": {},
     "output_type": "display_data"
    }
   ],
   "source": [
    "# Plot bar coupons acceptance by visits frequency\n",
    "def plot_coupons_acceptance_by_bar_visits():\n",
    "    bar_visits_3_or_less_series = accepted_bar_coupons_df.query('Bar in @bar_visits_3_or_less and coupon == \"Bar\"')['Bar'].value_counts()\n",
    "    bar_visits_4_or_more_series = accepted_bar_coupons_df.query('Bar in @bar_visits_4_or_more and coupon == \"Bar\"')['Bar'].value_counts()\n",
    "    bar_visits_df = pd.concat([bar_visits_3_or_less_series, bar_visits_4_or_more_series], axis=0, keys=['G1', 'G2']).reset_index()\n",
    "    bar_visits_df.columns = ['Bar Visits Group', 'Bar Visits', 'count']\n",
    "    bar_visits_df = np.round((bar_visits_df.groupby('Bar Visits Group')['count'].sum() / accepted_bar_coupons) * 100, 2)\n",
    "    bar_visits_df\n",
    "    plt.title(\"Bar Coupons (Accepted vs Rejected)\")\n",
    "    bar_visits_df.plot(kind='pie', labels=['Bar Visits 3 or less', 'Bar Visits more than 3'], explode = [0.02,0.02], autopct = '%1.2f%%', colors = ['g', 'y'])\n",
    "    plt.legend(title=\"Visits Frequency\", bbox_to_anchor=(0.85,0.85), loc=\"upper left\")\n",
    "    plt.ylabel('Coupons acceptance')\n",
    "    plt.title('Bar Coupons Acceptance by Visits Frequency')\n",
    "\n",
    "plot_coupons_acceptance_by_bar_visits()"
   ]
  },
  {
   "cell_type": "markdown",
   "metadata": {
    "id": "RBgcQwH4_qRK"
   },
   "source": [
    "4. Compare the acceptance rate between drivers who go to a bar more than once a month and are over the age of 25 to the all others.  Is there a difference?\n"
   ]
  },
  {
   "cell_type": "code",
   "execution_count": 48,
   "metadata": {
    "id": "bf28bbeX_qRK"
   },
   "outputs": [
    {
     "data": {
      "text/plain": [
       "array(['21', '46', '26', '31', '41', '50plus', '36', 'below21'],\n",
       "      dtype=object)"
      ]
     },
     "execution_count": 48,
     "metadata": {},
     "output_type": "execute_result"
    }
   ],
   "source": [
    "# Check unique values for column age\n",
    "data['age'].unique()"
   ]
  },
  {
   "cell_type": "code",
   "execution_count": 49,
   "metadata": {},
   "outputs": [
    {
     "name": "stdout",
     "output_type": "stream",
     "text": [
      "Acceptance rate for Age >= 25 and bar visits >= 1: 35.31 %\n",
      "Acceptance rate for other bar visitors: 64.69 %\n",
      "Difference in acceptance rate of other bar visitors to 25+ visitors: 29.38\n"
     ]
    }
   ],
   "source": [
    "# Get acceptance count for visitor age more than 25 and visits more than once a month\n",
    "age_list = ['21', 'below21']\n",
    "bar_visits_count_list = ['1~3', 'gt8', '4~8']\n",
    "\n",
    "def bar_visitor_acceptance_by_age():\n",
    "    age25_plus_bar_visitors_count = accepted_bar_coupons_df.query('age not in @age_list and Bar in @bar_visits_count_list').groupby('Bar')['Bar'].value_counts().sum()\n",
    "    # age25_plus_bar_visitors_count\n",
    "    \n",
    "    # Get acceptance count for other bar visitors\n",
    "    other_bar_visitors_count = accepted_bar_coupons - age25_plus_bar_visitors_count\n",
    "    # other_bar_visitors_count\n",
    "    \n",
    "    # Calculate acceptance rate for Age >= 25 and bar visits >= 1\n",
    "    acceptance_rate_age_25plus = np.round((age25_plus_bar_visitors_count / accepted_bar_coupons) * 100, 2)\n",
    "    print(f'Acceptance rate for Age >= 25 and bar visits >= 1: {acceptance_rate_age_25plus} %')\n",
    "    \n",
    "    # Calculate acceptance rate other bar visitors\n",
    "    acceptance_rate_other_bar_visitors = np.round((other_bar_visitors_count / accepted_bar_coupons) * 100, 2)\n",
    "    print(f'Acceptance rate for other bar visitors: {acceptance_rate_other_bar_visitors} %')\n",
    "    \n",
    "    # Acceptance rate comparision for 25+ visitors vs other bar visitors\n",
    "    diff_to_other_visitos_age_25_plus = np.round(acceptance_rate_other_bar_visitors - acceptance_rate_age_25plus, 2)\n",
    "    print(f'Difference in acceptance rate of other bar visitors to 25+ visitors: {diff_to_other_visitos_age_25_plus}')\n",
    "\n",
    "bar_visitor_acceptance_by_age()"
   ]
  },
  {
   "cell_type": "markdown",
   "metadata": {},
   "source": [
    "<h><b>Summary: Yes, acceptance rate is higher (2.47 times) for 25+ age vistors compared to younger bar visitors with age < 25.<b></h>\n",
    "    <ol>\n",
    "      <li><b>Drivers with age 25+ years and visit bar more than once a month tend to accept Bar coupon at the rate of (R1): 35.31 %</b></li>\n",
    "      <li><b>Drivers with age less than 25 tend to accept Bar coupon at the rate of (R2): 64.69 %</b></li>\n",
    "      <li><b>Difference in acceptance rate of other bar visitors to 25+ visitors (R2 - R1): 64.69 - 35.31 = 29.38 %.</b></li>\n",
    "    </ol>"
   ]
  },
  {
   "cell_type": "code",
   "execution_count": 50,
   "metadata": {},
   "outputs": [
    {
     "data": {
      "image/png": "[encoded data removed]",
      "text/plain": [
       "<Figure size 640x480 with 1 Axes>"
      ]
     },
     "metadata": {},
     "output_type": "display_data"
    }
   ],
   "source": [
    "# Plot bar coupon acceptance distribution among Age 25+ and Age 25 below bar visitors \n",
    "def plot_age_wise_bar_coupon_acceptance():\n",
    "    age_25plus = accepted_bar_coupons_df.query('age not in @age_list and Bar in @bar_visits_count_list').groupby('Bar')['Bar'].value_counts()\n",
    "    age_25below = accepted_bar_coupons_df.query('age in @age_list and Bar in @bar_visits_count_list').groupby('Bar')['Bar'].value_counts()\n",
    "    age_25_plus_below_df = pd.concat([age_25plus, age_25below], keys=['Age 25+', 'Age 25 Below']).reset_index()\n",
    "    age_25_plus_below_df.columns = ['Age Group', 'Bar', 'count']\n",
    "    age_25_plus_below_df = np.round((age_25_plus_below_df.groupby('Age Group')['count'].sum() / accepted_bar_coupons) * 100, 2)\n",
    "    plt.title(\"Bar Coupons Acceptance - Age 25+ vs Age Below 25\")\n",
    "    age_25_plus_below_df\n",
    "    age_25_plus_below_df.plot(kind='pie', labels=['Age 25 below', 'Age 25+'], explode = [0.02,0.02], autopct = '%1.2f%%', colors = ['g', 'y'])\n",
    "    plt.xlabel(\"Bar Visits Frequency\")\n",
    "    plt.ylabel(\"Bar coupons acceptance\")\n",
    "\n",
    "plot_age_wise_bar_coupon_acceptance()"
   ]
  },
  {
   "cell_type": "markdown",
   "metadata": {
    "id": "S4RKT4PJ_qRK"
   },
   "source": [
    "5. Use the same process to compare the acceptance rate between drivers who go to bars more than once a month and had passengers that were not a kid and had occupations other than farming, fishing, or forestry.\n"
   ]
  },
  {
   "cell_type": "code",
   "execution_count": 51,
   "metadata": {
    "id": "sENaI2Tg_qRK",
    "scrolled": true
   },
   "outputs": [
    {
     "ename": "NameError",
     "evalue": "name 'bar_df' is not defined",
     "output_type": "error",
     "traceback": [
      "\u001b[0;31m---------------------------------------------------------------------------\u001b[0m",
      "\u001b[0;31mNameError\u001b[0m                                 Traceback (most recent call last)",
      "Cell \u001b[0;32mIn[51], line 2\u001b[0m\n\u001b[1;32m      1\u001b[0m \u001b[38;5;66;03m# Check unique values for column passanger\u001b[39;00m\n\u001b[0;32m----> 2\u001b[0m \u001b[43mbar_df\u001b[49m[\u001b[38;5;124m'\u001b[39m\u001b[38;5;124mpassanger\u001b[39m\u001b[38;5;124m'\u001b[39m]\u001b[38;5;241m.\u001b[39munique()\n",
      "\u001b[0;31mNameError\u001b[0m: name 'bar_df' is not defined"
     ]
    }
   ],
   "source": [
    "# Check unique values for column passanger\n",
    "bar_coupon_df['passanger'].unique()"
   ]
  },
  {
   "cell_type": "code",
   "execution_count": null,
   "metadata": {},
   "outputs": [],
   "source": [
    "# Check unique values for column occupation\n",
    "bar_coupon_df['occupation'].unique()"
   ]
  },
  {
   "cell_type": "code",
   "execution_count": null,
   "metadata": {},
   "outputs": [],
   "source": [
    "# Get count of bar coupon acceptance for drivers who vists Bar multiple times, have no kids passanger and their occupation is not Farming\n",
    "def bar_coupons_acceptance_comparision_nokids_no_fff_to_others():\n",
    "    no_kids_no_farming_count = accepted_bar_coupons_df.query('passanger != \"Kid(s)\" and Bar in @bar_visits_count_list and occupation != \"Farming Fishing & Forestry\"').groupby('Bar')['Bar'].value_counts().sum()\n",
    "    print(f'Acceptance count for drivers with no kids and not widowed: {no_kids_no_farming_count}')\n",
    "    \n",
    "    # Acceptance rate for no kids and no farming multplie Bar visitirs\n",
    "    no_kids_no_farming_accept_rate = np.round((no_kids_no_farming_count / accepted_bar_coupons) * 100, 2)\n",
    "    print(f'Acceptance rate for drivers with no kids and not widowed: {no_kids_no_farming_accept_rate} %')\n",
    "    \n",
    "    # Get count for other Bar visitors\n",
    "    others_of_no_kids_no_farming_count = accepted_bar_coupons - no_kids_no_farming_count\n",
    "    print(f'Acceptance count for other drivers: {others_of_no_kids_no_farming_count}')\n",
    "    \n",
    "    others_of_no_kids_no_farming_accept_rate = np.round((others_of_no_kids_no_farming_count / accepted_bar_coupons) * 100, 2)\n",
    "    print(f'Acceptance rate for other drivers: {others_of_no_kids_no_farming_accept_rate} %')\n",
    "    \n",
    "    proportion_others_to_no_kids_no_farming = np.round((others_of_no_kids_no_farming_accept_rate / no_kids_no_farming_accept_rate), 2)\n",
    "    print(f'Acceptance proportion for above two groups: {proportion_others_to_no_kids_no_farming} %')\n",
    "\n",
    "bar_coupons_acceptance_comparision_nokids_no_fff_to_others()"
   ]
  },
  {
   "cell_type": "markdown",
   "metadata": {},
   "source": [
    "<h><b>Summary: Acceptance rate for other drivers was ~10% higher than the drivers with no passanger kids and no farming occupation.<b></h>\n",
    "    <ol>\n",
    "      <li><b>Acceptance rate for drivers bar visits > 1 and passengers were not kids and occupation was not farming(D1): 47.52 %</b></li>\n",
    "      <li><b>Acceptance rate for other drivers (D2): 52.48 %</b></li>\n",
    "      <li><b>Acceptance rate proportion between drivers (D2/D1):  52.48 / 47.52 = 1.1 times</b></li>\n",
    "    </ol>"
   ]
  },
  {
   "cell_type": "code",
   "execution_count": null,
   "metadata": {},
   "outputs": [],
   "source": [
    "# Plot visuslization for comparision between drivers with no kids and no FFF occupation vs other drivers\n",
    "def plot_bar_coupons_acceptance_comparision_nokids_no_fff_to_others():\n",
    "    no_kids_no_farming_subset = accepted_bar_coupons_df.query('passanger != \"Kid(s)\" and Bar in @bar_visits_count_list and occupation != \"Farming Fishing & Forestry\"')\n",
    "    no_kids_no_farming_count = no_kids_no_farming_subset.groupby('Bar')['Bar'].value_counts()\n",
    "    complement_no_kids_no_farming_subset_index = accepted_bar_coupons_df.index.difference(no_kids_no_farming_subset.index)\n",
    "    complement_no_kids_no_farming_subset = accepted_bar_coupons_df.loc[complement_no_kids_no_farming_subset_index]\n",
    "    complement_no_kids_no_farming_count = complement_no_kids_no_farming_subset.groupby('Bar')['Bar'].value_counts()\n",
    "    bar_accept_no_kids_no_farming_df = pd.concat([no_kids_no_farming_count, complement_no_kids_no_farming_count], axis=0, keys=['G1', 'G2']).reset_index()\n",
    "    bar_accept_no_kids_no_farming_df.columns = ['Bar Visits Group', 'Bar Visits', 'count']\n",
    "    bar_accept_no_kids_no_farming_df = np.round((bar_accept_no_kids_no_farming_df.groupby('Bar Visits Group')['count'].sum() / accepted_bar_coupons) * 100, 2)\n",
    "    plt.title(\"Bar Coupons Acceptance - No kids & No FFF vs Others\")\n",
    "    bar_accept_no_kids_no_farming_df.plot(kind='pie', labels=['No kids & No FFF', 'Others'], explode = [0.02,0.02], autopct = '%1.2f%%', colors = ['g', 'y'])\n",
    "    plt.legend(title=\"Visits Frequency\", bbox_to_anchor=(0.85,0.85), loc=\"upper left\")\n",
    "    plt.ylabel('Coupons acceptance')\n",
    "\n",
    "plot_bar_coupons_acceptance_comparision_nokids_no_fff_to_others()"
   ]
  },
  {
   "cell_type": "markdown",
   "metadata": {
    "id": "n2LIUTil_qRK"
   },
   "source": [
    "6. Compare the acceptance rates between those drivers who:\n",
    "\n",
    "- go to bars more than once a month, had passengers that were not a kid, and were not widowed *OR*\n",
    "- go to bars more than once a month and are under the age of 30 *OR*\n",
    "- go to cheap restaurants more than 4 times a month and income is less than 50K.\n",
    "\n"
   ]
  },
  {
   "cell_type": "code",
   "execution_count": null,
   "metadata": {
    "id": "aK_wEzx7_qRK"
   },
   "outputs": [],
   "source": [
    "# Check unique values of maritalStatus column\n",
    "bar_coupon_df['maritalStatus'].unique()"
   ]
  },
  {
   "cell_type": "markdown",
   "metadata": {},
   "source": [
    "6.1: go to bars more than once a month, had passengers that were not a kid, and were not widowed"
   ]
  },
  {
   "cell_type": "code",
   "execution_count": null,
   "metadata": {},
   "outputs": [],
   "source": [
    "# Check unique values for \"income\" column\n",
    "bar_coupon_df['income'].unique()"
   ]
  },
  {
   "cell_type": "code",
   "execution_count": null,
   "metadata": {},
   "outputs": [],
   "source": [
    "# get bar coupon acceptance rate for drivers with no kids and not widowed to others\n",
    "def bar_coupon_acceptance_rate_no_kids_not_wodowed():\n",
    "    # Count of bar vistors who visted more than once in a month, had no kids passannder and were not widowed\n",
    "    bar_multi_visitors_no_kids_no_widow = accepted_bar_coupons_df.query('passanger != \"Kid(s)\" and Bar in @bar_visits_count_list and maritalStatus != \"Widowed\"').groupby('Bar')['Bar'].value_counts().sum()\n",
    "    bar_multi_visitors_no_kids_no_widow\n",
    "    \n",
    "    # Acceptance rate of bar vistors who (visted more than once in a month, had no kids passannder and were not widowed) \n",
    "    # compared to total bar coupons accepted\n",
    "    multi_bar_visits_no_kids_no_widow_rate = np.round((bar_multi_visitors_no_kids_no_widow / accepted_bar_coupons) * 100, 2)\n",
    "    multi_bar_visits_no_kids_no_widow_rate\n",
    "    \n",
    "    print(f'Acceptance proportion for no kids and no widowed to other drivers: {multi_bar_visits_no_kids_no_widow_rate} %')\n",
    "\n",
    "bar_coupon_acceptance_rate_no_kids_not_wodowed()"
   ]
  },
  {
   "cell_type": "markdown",
   "metadata": {},
   "source": [
    "<h><b>Summary-6.1: Acceptance rate for drivers with bar visits > 1, no kids passengers and not widowed (D1): 47.52 %<b></h>"
   ]
  },
  {
   "cell_type": "markdown",
   "metadata": {},
   "source": [
    "6.2: go to bars more than once a month and are under the age of 30"
   ]
  },
  {
   "cell_type": "code",
   "execution_count": null,
   "metadata": {},
   "outputs": [],
   "source": [
    "# Count of multiple times bar vistors who are age < 30\n",
    "age_inclusion_list = ['21', '26', 'below21']\n",
    "\n",
    "def bar_coupons_acceptance_under30():\n",
    "    bar_multi_visitors_under30 = accepted_bar_coupons_df.query('Bar in @bar_visits_count_list and age in @age_inclusion_list').groupby('Bar')['Bar'].value_counts().sum()\n",
    "    bar_multi_visitors_under30\n",
    "    \n",
    "    # Acceptance rate of multiple times bar vistors who are age < 30\n",
    "    bar_multi_visitors_under30_rate = np.round((bar_multi_visitors_under30 / accepted_bar_coupons) * 100, 2)\n",
    "    bar_multi_visitors_under30_rate\n",
    "    \n",
    "    print(f'Acceptance proportion for age 30 and below vs other age groups: {bar_multi_visitors_under30_rate} %')\n",
    "\n",
    "bar_coupons_acceptance_under30()"
   ]
  },
  {
   "cell_type": "markdown",
   "metadata": {},
   "source": [
    "<h><b>Summary-6.2: Acceptance rate for drivers with bar visits > 1 and age below 30 (D2): 30.11 %<b></h>"
   ]
  },
  {
   "cell_type": "markdown",
   "metadata": {},
   "source": [
    "6.3: go to cheap restaurants more than 4 times a month and income is less than 50K"
   ]
  },
  {
   "cell_type": "code",
   "execution_count": null,
   "metadata": {},
   "outputs": [],
   "source": [
    "# Checj unique values for RestaurantLessThan20 column\n",
    "bar_coupon_df['RestaurantLessThan20'].unique()"
   ]
  },
  {
   "cell_type": "code",
   "execution_count": null,
   "metadata": {},
   "outputs": [],
   "source": [
    "# set restuarent and income exclusion lists\n",
    "restaurant_visits_inclusion_list = ['4~8', 'gt8']\n",
    "income_inclusion_list = ['Less than $12500', '$12500 - $24999', '$25000 - $37499','$37500 - $49999']\n",
    "\n",
    "def find_acceptance_rate_restaurant_visitors_under50k_income():    \n",
    "    # Count of multiple times cheap restaurents vistors with income < 50k\n",
    "    rest_multi_visitors_under50k_income = accepted_bar_coupons_df.query('RestaurantLessThan20 in @restaurant_visits_inclusion_list and income in @income_inclusion_list').groupby('Bar')['Bar'].value_counts().sum()\n",
    "    rest_multi_visitors_under50k_income\n",
    "    \n",
    "    # Acceptance rate of multiple times cheap restaurents vistors with income < 50k\n",
    "    rest_multi_visitors_under50k_income_rate = np.round((rest_multi_visitors_under50k_income / accepted_bar_coupons) * 100, 2)\n",
    "    rest_multi_visitors_under50k_income_rate\n",
    "    \n",
    "    print(f'Acceptance proportion for drivers with income under 50k vs other income groups: {rest_multi_visitors_under50k_income_rate} %')\n",
    "\n",
    "find_acceptance_rate_restaurant_visitors_under50k_income()"
   ]
  },
  {
   "cell_type": "markdown",
   "metadata": {},
   "source": [
    "<h><b>Summary-6.3: Acceptance rate for drivers with restaurent visits > 4 and income below 50k (D3): 18.86 %<b></h>"
   ]
  },
  {
   "cell_type": "code",
   "execution_count": null,
   "metadata": {},
   "outputs": [],
   "source": [
    "# Plot pie chart for drivers:\n",
    "# go to bars more than once a month, had passengers that were not a kid, and were not widowed OR\n",
    "# go to bars more than once a month and are under the age of 30 OR\n",
    "# go to cheap restaurants more than 4 times a month and income is less than 50K.\n",
    "\n",
    "def plot_bar_coupon_acceptance_for_bar_visitors_and_rest_visitors():\n",
    "    bar_visits_count_list = ['1~3', 'gt8', '4~8']\n",
    "    restaurant_visits_inclusion_list = ['4~8', 'gt8']\n",
    "    income_inclusion_list = ['Less than $12500', '$12500 - $24999', '$25000 - $37499','$37500 - $49999']\n",
    "    \n",
    "    all_coupon_types_accepted = data[data['Y'] == 1]\n",
    "    bar_multi_visitors_no_kids_no_widow = all_coupon_types_accepted.query('passanger != \"Kid(s)\" and Bar in @bar_visits_count_list and maritalStatus != \"Widowed\"')\n",
    "    bar_multi_visitors_under30 = all_coupon_types_accepted.query('Bar in @bar_visits_count_list and age in @age_inclusion_list')\n",
    "    rest_multi_visitors_under50k_income = all_coupon_types_accepted.query('RestaurantLessThan20 in @restaurant_visits_inclusion_list and income in @income_inclusion_list')\n",
    "    \n",
    "    plt.title(\"Bar Coupons Acceptance Comparision\")\n",
    "    plt.pie([bar_multi_visitors_no_kids_no_widow.shape[0], bar_multi_visitors_under30.shape[0], rest_multi_visitors_under50k_income.shape[0]], autopct='%1.2f%%',\n",
    "            labels=['Multi Bar Visits, No Kids & Not Widowed', 'Multi Bar Visits, under 30','Cheap Restaurants > 4/month & Income < 50k'])\n",
    "\n",
    "plot_bar_coupon_acceptance_for_bar_visitors_and_rest_visitors()"
   ]
  },
  {
   "cell_type": "markdown",
   "metadata": {
    "id": "v3fL3QkO_qRK"
   },
   "source": [
    "7.  Based on these observations, what do you hypothesize about drivers who accepted the bar coupons?"
   ]
  },
  {
   "cell_type": "markdown",
   "metadata": {},
   "source": [
    "<h><b>Hypothesize Summary - Bar Coupons Acceptance<b></h>\n",
    "    <ol>\n",
    "      <li><b>Overall bar coupons acceptance rate is: 41 %</b></li>\n",
    "      <li><b>Drivers with bar visits 3 or less tend to accept coupon 4.40 times more than the visitos who visit the bar more than 3 times a month.</b></li>\n",
    "      <li><b>Drivers older than age of 25 tend to accept bar 2.47 times more coupon than younger bar visitors.</b></li>\n",
    "      <li><b>Acceptance rate for drivers with no passanger kids and no FFF occupation tend to accept 10% lesser coupons compared to other drivers.</b></li>\n",
    "      <li><b>D1: Drivers who were not widowed, have no kids passangers and often visit bar tends to accept coupon at the rate of 47.52 %.</b></li>\n",
    "      <li><b>D2: Drivers at age below 30 and who visit bar multiple times in a month tend to accept the coupon at the rate of 30.11 %.</b></li>\n",
    "      <li><b>D3: Drivers with income below 50k and who visit restaurent more than 4 times a month, tend to accept the coupon at the rate of 18.86 %.</b></li>\n",
    "    </ol>"
   ]
  },
  {
   "cell_type": "markdown",
   "metadata": {
    "id": "r4Hu1zOb_qRL"
   },
   "source": [
    "### Independent Investigation\n",
    "\n",
    "Using the bar coupon example as motivation, you are to explore one of the other coupon groups and try to determine the characteristics of passengers who accept the coupons.  "
   ]
  },
  {
   "cell_type": "code",
   "execution_count": null,
   "metadata": {
    "id": "0c71cQhu_qRL"
   },
   "outputs": [],
   "source": [
    "# Check unique values of CoffeeHouse column\n",
    "data['CoffeeHouse'].unique()"
   ]
  },
  {
   "cell_type": "code",
   "execution_count": null,
   "metadata": {},
   "outputs": [],
   "source": [
    "# get Coffee House coupon type dataframe\n",
    "total_coffee_house_coupons_df = data.query('coupon == \"Coffee House\"')\n",
    "total_coffee_house_coupons_df"
   ]
  },
  {
   "cell_type": "code",
   "execution_count": null,
   "metadata": {
    "id": "QEsBkvIN_qRL"
   },
   "outputs": [],
   "source": [
    "# accepted coffee house coupon dataframe\n",
    "accept_coffee_coupon_df = data.query('Y == 1 and coupon == \"Coffee House\"')\n",
    "accept_coffee_coupon_df"
   ]
  },
  {
   "cell_type": "code",
   "execution_count": null,
   "metadata": {
    "id": "fTC2WGE3_qRL"
   },
   "outputs": [],
   "source": [
    "# inspect dataset columns\n",
    "accept_coffee_coupon_df.info()"
   ]
  },
  {
   "cell_type": "code",
   "execution_count": null,
   "metadata": {
    "id": "RrqUWn7d_qRL"
   },
   "outputs": [],
   "source": [
    "# Get unique values for marital status \n",
    "accept_coffee_coupon_df['maritalStatus'].unique()"
   ]
  },
  {
   "cell_type": "code",
   "execution_count": null,
   "metadata": {},
   "outputs": [],
   "source": [
    "# find unique values for weather\n",
    "accept_coffee_coupon_df['weather'].unique()"
   ]
  },
  {
   "cell_type": "code",
   "execution_count": null,
   "metadata": {},
   "outputs": [],
   "source": [
    "# find unique values for temperature column\n",
    "accept_coffee_coupon_df['temperature'].unique()"
   ]
  },
  {
   "cell_type": "markdown",
   "metadata": {},
   "source": [
    "1. What proportion of coffehouse coupons were accepted?"
   ]
  },
  {
   "cell_type": "code",
   "execution_count": null,
   "metadata": {},
   "outputs": [],
   "source": [
    "# plot overall coffee house coupons acceptance\n",
    "def plot_overall_coffee_house_coupons_acceptance():\n",
    "    # find total number of Coffee House coupons\n",
    "    total_coffee_house_coupons = total_coffee_house_coupons_df.shape[0]\n",
    "    total_coffee_house_coupons\n",
    "    \n",
    "    # find total number of accepted Coffee House coupons\n",
    "    accepted_coffee_house_coupons = accept_coffee_coupon_df.shape[0]\n",
    "    accepted_coffee_house_coupons\n",
    "    \n",
    "    # Accepted Coffee House coupons proportion compared to total Coffee House coupons\n",
    "    accpted_coffee_house_coupons_proportion = np.round((accepted_coffee_house_coupons / total_coffee_house_coupons) * 100, 2)\n",
    "    \n",
    "    plt.title(\"Coffee House Coupons (Accepted vs Rejected)\")\n",
    "    total_coffee_house_coupons_df['Y'].value_counts().plot(kind='pie', labels=['Rejected', 'Accepted'], explode = [0.02,0.02], autopct = '%1.2f%%', colors = ['r', 'g'])\n",
    "    plt.legend(title=\"Acceptance\", bbox_to_anchor=(0.85,1.025), loc=\"upper left\")\n",
    "    plt.ylabel('Coffee House Coupons Acceptance %')\n",
    "    plt.title('Overall Coffee House Coupons Acceptance')\n",
    "    plt.savefig(\"images/coffee_house_acceptance.png\")\n",
    "\n",
    "plot_overall_coffee_house_coupons_acceptance()"
   ]
  },
  {
   "cell_type": "markdown",
   "metadata": {},
   "source": [
    "2. Compare the acceptance rates between those drivers who:\n",
    "\n",
    "- go to coffee house more than once a month, had passengers that were a kid, and were married.\n",
    "- go to coffee house and bar more than once a month and are under the age of 30.\n",
    "- go to coffee house when weather is sunny and temperature is 80."
   ]
  },
  {
   "cell_type": "code",
   "execution_count": null,
   "metadata": {},
   "outputs": [],
   "source": [
    "# prepare inclusion and exlusion list to apply filter on dataframe\n",
    "bar_visits_count_list = ['1~3', 'gt8', '4~8']\n",
    "coffee_house_visits_count_list = ['4~8', '1~3', 'gt8']\n",
    "age_inclusion_list = ['21', '26', 'below21']\n",
    "temp_inclusion_list = [80]\n",
    "\n",
    "# plot overall coffee house coupons acceptance between below 3 groups:\n",
    "# go to coffee house more than once a month, had passengers that were a kid, and were married.\n",
    "# go to coffee house and bar more than once a month and are under the age of 30.\n",
    "# go to coffee house when weather is sunny and temperature is 80.\n",
    "\n",
    "def plot_overall_coffee_house_coupons_acceptance_comparision():\n",
    "    all_coupon_types_accepted = data[data['Y'] == 1]\n",
    "    \n",
    "    coffee_house_multi_visitors_kids_and_married = all_coupon_types_accepted.query('passanger == \"Kid(s)\" and CoffeeHouse in @coffee_house_visits_count_list and maritalStatus == \"Married partner\"')\n",
    "    coffee_house_multi_visitors_under30 = all_coupon_types_accepted.query('Bar in @bar_visits_count_list and CoffeeHouse in @coffee_house_visits_count_list and age in @age_inclusion_list')\n",
    "    coffee_house_visit_hot_day = all_coupon_types_accepted.query('CoffeeHouse in @coffee_house_visits_count_list and weather == \"Sunny\" and temperature in @temp_inclusion_list')\n",
    "    plt.title(\"Coffee House Coupons Acceptance Comparision\")\n",
    "    plt.pie([coffee_house_multi_visitors_kids_and_married.shape[0], coffee_house_multi_visitors_under30.shape[0], coffee_house_visit_hot_day.shape[0]], autopct='%1.2f%%',\n",
    "            labels=['Coffee House Visits, With Kids & Married', 'Frequent Coffee House & Bar Vistor, under 30', 'Coffe House visit - hot day'])\n",
    "    plt.savefig(\"images/coffee_house_coupon_comparision.png\")\n",
    "\n",
    "plot_overall_coffee_house_coupons_acceptance_comparision()"
   ]
  },
  {
   "cell_type": "markdown",
   "metadata": {},
   "source": [
    "3. Compare the coffee house coupons acceptance rates for drivers who visit coffee house 3 or less times for various weather conditions"
   ]
  },
  {
   "cell_type": "code",
   "execution_count": null,
   "metadata": {},
   "outputs": [],
   "source": [
    "# set coffee house visit frquency inclusion list\n",
    "coffee_house_visits_3_or_less = ['1~3', 'never', 'less1']\n",
    "\n",
    "# plot visulaization for coffee house acceptance by weather for 3 or less times visitor\n",
    "def plot_coffee_house_acceptance_by_weather():\n",
    "    all_coupon_types_accepted = data[data['Y'] == 1]\n",
    "    \n",
    "    coffee_house_visits_df = all_coupon_types_accepted.query('CoffeeHouse in @coffee_house_visits_3_or_less')\n",
    "    coffee_house_visits_df = coffee_house_visits_df.groupby('weather')['weather'].value_counts()\n",
    "    coffee_house_visits_df\n",
    "    \n",
    "    plt.title(\"Coffee House Coupons Acceptance Comparision by Weather\")\n",
    "    plt.pie([coffee_house_visits_df['Rainy'], coffee_house_visits_df['Snowy'], coffee_house_visits_df['Sunny']], autopct='%1.2f%%',\n",
    "            labels=['Coffee House Visits - Rainy Weather', 'Coffee House Visits - Snowy Weather', 'Coffee House Visits - Sunny'])\n",
    "    plt.savefig(\"images/coffee_house_coupon_acceptance_weather.png\")\n",
    "\n",
    "plot_coffee_house_acceptance_by_weather()"
   ]
  },
  {
   "cell_type": "markdown",
   "metadata": {
    "id": "_oykf8YP_qRL"
   },
   "source": [
    "3. Compare the acceptance rates between male/female drivers who go to coffee house more than 3 times"
   ]
  },
  {
   "cell_type": "code",
   "execution_count": null,
   "metadata": {},
   "outputs": [],
   "source": [
    "# Set coffee house visits frequency list\n",
    "coffee_house_visits_count_list = ['4~8', '1~3', 'gt8']\n",
    "\n",
    "# plot visulaization for coffee house acceptance by gender for 3 or more times visitor\n",
    "def plot_coffee_house_acceptance_by_gender():\n",
    "    all_coupon_types_accepted = data[data['Y'] == 1]\n",
    "    \n",
    "    coffee_house_visits_gender_df = all_coupon_types_accepted.query('CoffeeHouse in @coffee_house_visits_count_list')\n",
    "    coffee_house_visits_gender_df = coffee_house_visits_gender_df.groupby('gender')['gender'].value_counts()\n",
    "    coffee_house_visits_gender_df\n",
    "    \n",
    "    plt.title(\"Coffee House Coupons Acceptance Comparision by Gender\")\n",
    "    plt.pie([coffee_house_visits_gender_df['Male'], coffee_house_visits_gender_df['Female']], autopct='%1.2f%%',\n",
    "            labels=['Coffee House Visits - Male', 'Coffee House Visits - Female'])\n",
    "    plt.savefig(\"images/coffee_house_coupon_acceptance_gender.png\")\n",
    "\n",
    "plot_coffee_house_acceptance_by_gender()"
   ]
  },
  {
   "cell_type": "markdown",
   "metadata": {},
   "source": [
    "4. Coffee house acceptance by Age"
   ]
  },
  {
   "cell_type": "code",
   "execution_count": null,
   "metadata": {},
   "outputs": [],
   "source": [
    "# Bar plot visulaization for coffee house acceptance by age\n",
    "def plot_coffee_house_acceptance_by_age():\n",
    "    coffee_house_age = data.groupby('age')['age'].value_counts().reset_index()\n",
    "    coffee_house_age\n",
    "    plt.figure(figsize=(6, 6))\n",
    "    sns.barplot(coffee_house_age, x='age', y='count', hue='age')\n",
    "    plt.title('Coffee House Coupons Distribution by Age')\n",
    "    plt.xlabel('Age')\n",
    "    plt.ylabel('Coffee House Coupon Counts')\n",
    "    plt.tight_layout()\n",
    "    plt.xticks(rotation=45)\n",
    "    plt.savefig(\"images/ch_by_age.png\")\n",
    "    plt.show()\n",
    "\n",
    "plot_coffee_house_acceptance_by_age()"
   ]
  },
  {
   "cell_type": "markdown",
   "metadata": {},
   "source": [
    "5. Coffee house acceptance by Education"
   ]
  },
  {
   "cell_type": "code",
   "execution_count": null,
   "metadata": {},
   "outputs": [],
   "source": [
    "# Bar plot visulaization for coffee house acceptance by education\n",
    "def plot_coffee_house_acceptance_by_education():\n",
    "    coffee_house_education = data.groupby('education')['education'].value_counts().reset_index()\n",
    "    coffee_house_education\n",
    "    plt.figure(figsize=(6, 6))\n",
    "    sns.barplot(coffee_house_education, x='education', y='count', hue='education')\n",
    "    plt.title('Coffee House Coupons Distribution by Education')\n",
    "    plt.xlabel('Education')\n",
    "    plt.ylabel('Coffee House Coupon Counts')\n",
    "    plt.tight_layout()\n",
    "    plt.xticks(rotation=45)\n",
    "    plt.savefig(\"images/ch_by_education.png\")\n",
    "    plt.show()\n",
    "\n",
    "plot_coffee_house_acceptance_by_education()"
   ]
  },
  {
   "cell_type": "markdown",
   "metadata": {},
   "source": [
    "6. Coffee house acceptance by Marital Status"
   ]
  },
  {
   "cell_type": "code",
   "execution_count": null,
   "metadata": {},
   "outputs": [],
   "source": [
    "# Bar plot visulaization for coffee house acceptance by marital status\n",
    "def plot_coffee_house_acceptance_by_marital_status():\n",
    "    coffee_house_education = data.groupby('maritalStatus')['maritalStatus'].value_counts().reset_index()\n",
    "    coffee_house_education\n",
    "    plt.figure(figsize=(6, 6))\n",
    "    sns.barplot(coffee_house_education, x='maritalStatus', y='count', hue='maritalStatus')\n",
    "    plt.title('Coffee House Coupons Distribution by Marital Status')\n",
    "    plt.xlabel('Marital Status')\n",
    "    plt.ylabel('Coffee House Coupon Counts')\n",
    "    plt.tight_layout()\n",
    "    plt.xticks(rotation=45)\n",
    "    plt.savefig(\"images/ch_by_marital_status.png\")\n",
    "    plt.show()\n",
    "\n",
    "plot_coffee_house_acceptance_by_marital_status()"
   ]
  },
  {
   "cell_type": "markdown",
   "metadata": {},
   "source": [
    "7. Coffee house acceptance by Income"
   ]
  },
  {
   "cell_type": "code",
   "execution_count": null,
   "metadata": {},
   "outputs": [],
   "source": [
    "# Bar plot visulaization for coffee house acceptance by income\n",
    "def plot_coffee_house_acceptance_by_income():\n",
    "    coffee_house_income = data.groupby('income')['income'].value_counts().reset_index()\n",
    "    coffee_house_income\n",
    "    plt.figure(figsize=(6, 6))\n",
    "    sns.barplot(coffee_house_income, x='income', y='count', hue='income')\n",
    "    plt.title('Coffee House Coupons Distribution by Income')\n",
    "    plt.xlabel('Income')\n",
    "    plt.ylabel('Coffee House Coupon Counts')\n",
    "    plt.tight_layout()\n",
    "    plt.xticks(rotation=45)\n",
    "    plt.savefig(\"images/ch_by_income.png\")\n",
    "    plt.show()\n",
    "\n",
    "plot_coffee_house_acceptance_by_income()"
   ]
  }
 ],
 "metadata": {
  "colab": {
   "provenance": []
  },
  "kernelspec": {
   "display_name": "Python 3 (ipykernel)",
   "language": "python",
   "name": "python3"
  },
  "language_info": {
   "codemirror_mode": {
    "name": "ipython",
    "version": 3
   },
   "file_extension": ".py",
   "mimetype": "text/x-python",
   "name": "python",
   "nbconvert_exporter": "python",
   "pygments_lexer": "ipython3",
   "version": "3.12.7"
  }
 },
 "nbformat": 4,
 "nbformat_minor": 4
}
